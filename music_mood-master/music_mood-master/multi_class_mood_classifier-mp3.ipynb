{
 "cells": [
  {
   "cell_type": "markdown",
   "metadata": {},
   "source": [
    "# Source \n",
    "https://towardsdatascience.com/pytorch-tabular-multiclass-classification-9f8211a123ab"
   ]
  },
  {
   "cell_type": "code",
   "execution_count": 1,
   "metadata": {},
   "outputs": [],
   "source": [
    "import pandas as pd\n",
    "import numpy as np\n",
    "import matplotlib.pyplot as plt\n",
    "\n",
    "import os\n",
    "import pathlib\n",
    "\n",
    "import torch\n",
    "from torch.utils.data import Dataset, DataLoader, WeightedRandomSampler\n",
    "import torch.nn as nn\n",
    "import torch.optim as optim\n",
    "\n",
    "# tqdm to enable progress bars for training and testing loops\n",
    "from tqdm.notebook import tqdm\n",
    "\n",
    "\n",
    "from sklearn.preprocessing import MinMaxScaler    \n",
    "from sklearn.model_selection import train_test_split\n",
    "from sklearn.metrics import confusion_matrix, classification_report\n"
   ]
  },
  {
   "cell_type": "code",
   "execution_count": 2,
   "metadata": {},
   "outputs": [],
   "source": [
    "moods = ['calm', 'energetic', 'happy', 'sad']"
   ]
  },
  {
   "cell_type": "code",
   "execution_count": 3,
   "metadata": {},
   "outputs": [],
   "source": [
    "files = []\n",
    "for g in moods:\n",
    "    for filename in os.listdir(f'data/{g}'):\n",
    "        file_name = f'data/{g}/{filename}'\n",
    "        files.append(file_name)"
   ]
  },
  {
   "cell_type": "code",
   "execution_count": 4,
   "metadata": {},
   "outputs": [],
   "source": [
    "combined_df = pd.concat([pd.read_csv(file) for file in files])"
   ]
  },
  {
   "cell_type": "code",
   "execution_count": 5,
   "metadata": {},
   "outputs": [
    {
     "data": {
      "text/html": [
       "<div>\n",
       "<style scoped>\n",
       "    .dataframe tbody tr th:only-of-type {\n",
       "        vertical-align: middle;\n",
       "    }\n",
       "\n",
       "    .dataframe tbody tr th {\n",
       "        vertical-align: top;\n",
       "    }\n",
       "\n",
       "    .dataframe thead th {\n",
       "        text-align: right;\n",
       "    }\n",
       "</style>\n",
       "<table border=\"1\" class=\"dataframe\">\n",
       "  <thead>\n",
       "    <tr style=\"text-align: right;\">\n",
       "      <th></th>\n",
       "      <th>Unnamed: 0</th>\n",
       "      <th>danceability</th>\n",
       "      <th>energy</th>\n",
       "      <th>key</th>\n",
       "      <th>loudness</th>\n",
       "      <th>mode</th>\n",
       "      <th>speechiness</th>\n",
       "      <th>acousticness</th>\n",
       "      <th>instrumentalness</th>\n",
       "      <th>liveness</th>\n",
       "      <th>valence</th>\n",
       "      <th>tempo</th>\n",
       "      <th>type</th>\n",
       "      <th>id</th>\n",
       "      <th>uri</th>\n",
       "      <th>track_href</th>\n",
       "      <th>analysis_url</th>\n",
       "      <th>duration_ms</th>\n",
       "      <th>time_signature</th>\n",
       "      <th>mood</th>\n",
       "    </tr>\n",
       "  </thead>\n",
       "  <tbody>\n",
       "    <tr>\n",
       "      <th>0</th>\n",
       "      <td>0</td>\n",
       "      <td>0.453</td>\n",
       "      <td>0.04360</td>\n",
       "      <td>10</td>\n",
       "      <td>-25.912</td>\n",
       "      <td>0</td>\n",
       "      <td>0.0364</td>\n",
       "      <td>0.990</td>\n",
       "      <td>0.842</td>\n",
       "      <td>0.1110</td>\n",
       "      <td>0.1980</td>\n",
       "      <td>71.987</td>\n",
       "      <td>audio_features</td>\n",
       "      <td>7FyzToHhKG9b9gS19kWg8a</td>\n",
       "      <td>spotify:track:7FyzToHhKG9b9gS19kWg8a</td>\n",
       "      <td>https://api.spotify.com/v1/tracks/7FyzToHhKG9b...</td>\n",
       "      <td>https://api.spotify.com/v1/audio-analysis/7Fyz...</td>\n",
       "      <td>166000</td>\n",
       "      <td>4</td>\n",
       "      <td>calm</td>\n",
       "    </tr>\n",
       "    <tr>\n",
       "      <th>1</th>\n",
       "      <td>1</td>\n",
       "      <td>0.437</td>\n",
       "      <td>0.01840</td>\n",
       "      <td>8</td>\n",
       "      <td>-30.783</td>\n",
       "      <td>1</td>\n",
       "      <td>0.0413</td>\n",
       "      <td>0.994</td>\n",
       "      <td>0.930</td>\n",
       "      <td>0.1140</td>\n",
       "      <td>0.0478</td>\n",
       "      <td>119.985</td>\n",
       "      <td>audio_features</td>\n",
       "      <td>5a8V9tjazhBAIbUiFqpu8N</td>\n",
       "      <td>spotify:track:5a8V9tjazhBAIbUiFqpu8N</td>\n",
       "      <td>https://api.spotify.com/v1/tracks/5a8V9tjazhBA...</td>\n",
       "      <td>https://api.spotify.com/v1/audio-analysis/5a8V...</td>\n",
       "      <td>205794</td>\n",
       "      <td>4</td>\n",
       "      <td>calm</td>\n",
       "    </tr>\n",
       "    <tr>\n",
       "      <th>2</th>\n",
       "      <td>2</td>\n",
       "      <td>0.366</td>\n",
       "      <td>0.01610</td>\n",
       "      <td>5</td>\n",
       "      <td>-27.355</td>\n",
       "      <td>1</td>\n",
       "      <td>0.0632</td>\n",
       "      <td>0.992</td>\n",
       "      <td>0.951</td>\n",
       "      <td>0.1100</td>\n",
       "      <td>0.1710</td>\n",
       "      <td>49.668</td>\n",
       "      <td>audio_features</td>\n",
       "      <td>3WiissyVFRpCVrqbyPKZxZ</td>\n",
       "      <td>spotify:track:3WiissyVFRpCVrqbyPKZxZ</td>\n",
       "      <td>https://api.spotify.com/v1/tracks/3WiissyVFRpC...</td>\n",
       "      <td>https://api.spotify.com/v1/audio-analysis/3Wii...</td>\n",
       "      <td>121068</td>\n",
       "      <td>4</td>\n",
       "      <td>calm</td>\n",
       "    </tr>\n",
       "    <tr>\n",
       "      <th>3</th>\n",
       "      <td>3</td>\n",
       "      <td>0.385</td>\n",
       "      <td>0.00786</td>\n",
       "      <td>0</td>\n",
       "      <td>-25.033</td>\n",
       "      <td>1</td>\n",
       "      <td>0.0546</td>\n",
       "      <td>0.996</td>\n",
       "      <td>0.843</td>\n",
       "      <td>0.0928</td>\n",
       "      <td>0.1290</td>\n",
       "      <td>74.284</td>\n",
       "      <td>audio_features</td>\n",
       "      <td>3orRX2Ms4jy4dU9KqJ9zT1</td>\n",
       "      <td>spotify:track:3orRX2Ms4jy4dU9KqJ9zT1</td>\n",
       "      <td>https://api.spotify.com/v1/tracks/3orRX2Ms4jy4...</td>\n",
       "      <td>https://api.spotify.com/v1/audio-analysis/3orR...</td>\n",
       "      <td>180000</td>\n",
       "      <td>4</td>\n",
       "      <td>calm</td>\n",
       "    </tr>\n",
       "    <tr>\n",
       "      <th>4</th>\n",
       "      <td>4</td>\n",
       "      <td>0.381</td>\n",
       "      <td>0.00324</td>\n",
       "      <td>6</td>\n",
       "      <td>-33.019</td>\n",
       "      <td>0</td>\n",
       "      <td>0.0351</td>\n",
       "      <td>0.994</td>\n",
       "      <td>0.885</td>\n",
       "      <td>0.0746</td>\n",
       "      <td>0.0839</td>\n",
       "      <td>101.624</td>\n",
       "      <td>audio_features</td>\n",
       "      <td>536rm114S2ByPbh906pksj</td>\n",
       "      <td>spotify:track:536rm114S2ByPbh906pksj</td>\n",
       "      <td>https://api.spotify.com/v1/tracks/536rm114S2By...</td>\n",
       "      <td>https://api.spotify.com/v1/audio-analysis/536r...</td>\n",
       "      <td>156000</td>\n",
       "      <td>4</td>\n",
       "      <td>calm</td>\n",
       "    </tr>\n",
       "  </tbody>\n",
       "</table>\n",
       "</div>"
      ],
      "text/plain": [
       "   Unnamed: 0  danceability   energy  key  loudness  mode  speechiness  \\\n",
       "0           0         0.453  0.04360   10   -25.912     0       0.0364   \n",
       "1           1         0.437  0.01840    8   -30.783     1       0.0413   \n",
       "2           2         0.366  0.01610    5   -27.355     1       0.0632   \n",
       "3           3         0.385  0.00786    0   -25.033     1       0.0546   \n",
       "4           4         0.381  0.00324    6   -33.019     0       0.0351   \n",
       "\n",
       "   acousticness  instrumentalness  liveness  valence    tempo            type  \\\n",
       "0         0.990             0.842    0.1110   0.1980   71.987  audio_features   \n",
       "1         0.994             0.930    0.1140   0.0478  119.985  audio_features   \n",
       "2         0.992             0.951    0.1100   0.1710   49.668  audio_features   \n",
       "3         0.996             0.843    0.0928   0.1290   74.284  audio_features   \n",
       "4         0.994             0.885    0.0746   0.0839  101.624  audio_features   \n",
       "\n",
       "                       id                                   uri  \\\n",
       "0  7FyzToHhKG9b9gS19kWg8a  spotify:track:7FyzToHhKG9b9gS19kWg8a   \n",
       "1  5a8V9tjazhBAIbUiFqpu8N  spotify:track:5a8V9tjazhBAIbUiFqpu8N   \n",
       "2  3WiissyVFRpCVrqbyPKZxZ  spotify:track:3WiissyVFRpCVrqbyPKZxZ   \n",
       "3  3orRX2Ms4jy4dU9KqJ9zT1  spotify:track:3orRX2Ms4jy4dU9KqJ9zT1   \n",
       "4  536rm114S2ByPbh906pksj  spotify:track:536rm114S2ByPbh906pksj   \n",
       "\n",
       "                                          track_href  \\\n",
       "0  https://api.spotify.com/v1/tracks/7FyzToHhKG9b...   \n",
       "1  https://api.spotify.com/v1/tracks/5a8V9tjazhBA...   \n",
       "2  https://api.spotify.com/v1/tracks/3WiissyVFRpC...   \n",
       "3  https://api.spotify.com/v1/tracks/3orRX2Ms4jy4...   \n",
       "4  https://api.spotify.com/v1/tracks/536rm114S2By...   \n",
       "\n",
       "                                        analysis_url  duration_ms  \\\n",
       "0  https://api.spotify.com/v1/audio-analysis/7Fyz...       166000   \n",
       "1  https://api.spotify.com/v1/audio-analysis/5a8V...       205794   \n",
       "2  https://api.spotify.com/v1/audio-analysis/3Wii...       121068   \n",
       "3  https://api.spotify.com/v1/audio-analysis/3orR...       180000   \n",
       "4  https://api.spotify.com/v1/audio-analysis/536r...       156000   \n",
       "\n",
       "   time_signature  mood  \n",
       "0               4  calm  \n",
       "1               4  calm  \n",
       "2               4  calm  \n",
       "3               4  calm  \n",
       "4               4  calm  "
      ]
     },
     "execution_count": 5,
     "metadata": {},
     "output_type": "execute_result"
    }
   ],
   "source": [
    "# combined_df.set_index('id')\n",
    "combined_df.head()"
   ]
  },
  {
   "cell_type": "code",
   "execution_count": 6,
   "metadata": {},
   "outputs": [
    {
     "name": "stderr",
     "output_type": "stream",
     "text": [
      "C:\\Users\\bheim\\miniconda3\\envs\\music_mood\\lib\\site-packages\\librosa\\core\\audio.py:165: UserWarning: PySoundFile failed. Trying audioread instead.\n",
      "  warnings.warn(\"PySoundFile failed. Trying audioread instead.\")\n",
      "C:\\Users\\bheim\\miniconda3\\envs\\music_mood\\lib\\site-packages\\librosa\\core\\audio.py:165: UserWarning: PySoundFile failed. Trying audioread instead.\n",
      "  warnings.warn(\"PySoundFile failed. Trying audioread instead.\")\n"
     ]
    },
    {
     "name": "stdout",
     "output_type": "stream",
     "text": [
      "No MP3 for song 01iY9wuMjG4Q5GMCebu27S\n",
      "No MP3 for song 01k24g94i1JvkFLQmVEdCd\n",
      "No MP3 for song 02VHspkXhhH1QCInRWWIfr\n",
      "No MP3 for song 02Ygu8lo3qSknRpcBnspso\n",
      "No MP3 for song 02gj0J38nzyO9lNi9mzi3A\n",
      "No MP3 for song 04fBskFuMgIx0T0ob7uIhd\n",
      "No MP3 for song 05NYcsjJwOYq4jIiKPVj9p\n",
      "No MP3 for song 05wIrZSwuaVWhcv5FfqeH0\n",
      "No MP3 for song 06qUEhhx6jKQmhj2qAkn4H\n",
      "No MP3 for song 07YAkI4MUIBku8cSJQ2Iz5\n",
      "No MP3 for song 08Bo3D8B7krvdkQKaAT7Oa\n",
      "No MP3 for song 092bzgJ0IeH9sWMkBfVM9U\n",
      "No MP3 for song 0AH6WMe3OlAlUb5miXt2FQ\n",
      "No MP3 for song 0AkQbXGN4KG34TS7xLrM68\n",
      "No MP3 for song 0CFtlafteObzOEuJdESQkb\n",
      "No MP3 for song 0CmXXEwul09Kf8X68lPA5l\n",
      "No MP3 for song 0EhpEsp4L0oRGM0vmeaN5e\n",
      "No MP3 for song 0Eqg0CQ7bK3RQIMPw1A7pl\n",
      "No MP3 for song 0F2LiyHp9E0pAanpfnzHNp\n",
      "No MP3 for song 0FerZPepEX2Q1UaVeMOlMx\n",
      "No MP3 for song 0FuTx2s3YH1ppmtiM6l0zI\n",
      "No MP3 for song 0G71WvIkF2K6HViJeFvOcM\n",
      "No MP3 for song 0GONea6G2XdnHWjNZd6zt3\n",
      "No MP3 for song 0GUxlhUfZhTKXtuYPSm7Ha\n",
      "No MP3 for song 0IZoBFaTUG79KBfKlv8zmG\n",
      "No MP3 for song 0JExELrTTlXBvwYXJGIMtT\n",
      "No MP3 for song 0KR7jNki49r2qg7o8D2zIB\n",
      "No MP3 for song 0KmgJyW4GDgonqsoyx0CZ3\n",
      "No MP3 for song 0KpfYajJVVGgQ32Dby7e9i\n",
      "No MP3 for song 0LXs0oOINrcboPzcn63zIB\n",
      "No MP3 for song 0ND8rF8oirMXtE59n585P6\n",
      "No MP3 for song 0OIQxUqmzExTkME0S5dX0c\n",
      "No MP3 for song 0OJN2A3Qyvd7pwSF0AIteC\n"
     ]
    }
   ],
   "source": [
    "import librosa\n",
    "import os.path\n",
    "\n",
    "mp3s = {}\n",
    "c=0\n",
    "for i in np.unique(combined_df.id):\n",
    "    fname = f'mp3s/{i}.mp3'\n",
    "    if os.path.isfile(fname):\n",
    "        y, sr = librosa.load(fname)\n",
    "        mood = combined_df.mood[combined_df.id == i]\n",
    "        mp3s[i] = y, sr, mood\n",
    "    else:\n",
    "        print(f\"No MP3 for song {i}\")\n",
    "    c+=1\n",
    "    if c>100:\n",
    "        break\n",
    "    \n"
   ]
  },
  {
   "cell_type": "code",
   "execution_count": 7,
   "metadata": {},
   "outputs": [
    {
     "data": {
      "text/plain": [
       "[<matplotlib.lines.Line2D at 0x1a28e9c8a58>]"
      ]
     },
     "execution_count": 7,
     "metadata": {},
     "output_type": "execute_result"
    },
    {
     "data": {
      "image/png": "[encoded data removed]",
      "text/plain": [
       "<Figure size 432x288 with 1 Axes>"
      ]
     },
     "metadata": {
      "needs_background": "light"
     },
     "output_type": "display_data"
    }
   ],
   "source": [
    "plt.plot(mp3s['0BXq9t3wTA8HMqFPvGxZYf'][0])"
   ]
  },
  {
   "cell_type": "code",
   "execution_count": 8,
   "metadata": {},
   "outputs": [
    {
     "data": {
      "text/plain": [
       "68"
      ]
     },
     "execution_count": 8,
     "metadata": {},
     "output_type": "execute_result"
    }
   ],
   "source": [
    "len(mp3s)"
   ]
  },
  {
   "cell_type": "code",
   "execution_count": 9,
   "metadata": {},
   "outputs": [],
   "source": [
    "mood_lst = []\n",
    "y_lst = []\n",
    "\n",
    "for song in mp3s.keys():\n",
    "    mood_lst.append(mp3s[song][2])\n",
    "    y_lst.append(mp3s[song][0])"
   ]
  },
  {
   "cell_type": "code",
   "execution_count": 10,
   "metadata": {},
   "outputs": [
    {
     "data": {
      "text/plain": [
       "(array([-0.07220786, -0.14678839, -0.16673431, ...,  0.00956032,\n",
       "        -0.00329892,  0.        ], dtype=float32),\n",
       " 22050,\n",
       " 39    sad\n",
       " Name: mood, dtype: object)"
      ]
     },
     "execution_count": 10,
     "metadata": {},
     "output_type": "execute_result"
    }
   ],
   "source": [
    "mp3s[list(mp3s.keys())[0]]"
   ]
  },
  {
   "cell_type": "code",
   "execution_count": 11,
   "metadata": {},
   "outputs": [
    {
     "data": {
      "text/plain": [
       "68"
      ]
     },
     "execution_count": 11,
     "metadata": {},
     "output_type": "execute_result"
    }
   ],
   "source": [
    "len(y_lst)"
   ]
  },
  {
   "cell_type": "code",
   "execution_count": 12,
   "metadata": {},
   "outputs": [
    {
     "data": {
      "text/plain": [
       "68"
      ]
     },
     "execution_count": 12,
     "metadata": {},
     "output_type": "execute_result"
    }
   ],
   "source": [
    "len(mood_lst)"
   ]
  },
  {
   "cell_type": "code",
   "execution_count": 13,
   "metadata": {},
   "outputs": [],
   "source": [
    "mood_lst = [m.values[0] for m in mood_lst]"
   ]
  },
  {
   "cell_type": "code",
   "execution_count": 14,
   "metadata": {},
   "outputs": [
    {
     "data": {
      "text/plain": [
       "<AxesSubplot:>"
      ]
     },
     "execution_count": 14,
     "metadata": {},
     "output_type": "execute_result"
    },
    {
     "data": {
      "image/png": "[encoded data removed]",
      "text/plain": [
       "<Figure size 432x288 with 1 Axes>"
      ]
     },
     "metadata": {
      "needs_background": "light"
     },
     "output_type": "display_data"
    }
   ],
   "source": [
    "pd.Series(mood_lst).value_counts().plot.bar()"
   ]
  },
  {
   "cell_type": "code",
   "execution_count": 15,
   "metadata": {},
   "outputs": [
    {
     "data": {
      "text/plain": [
       "<AxesSubplot:ylabel='None'>"
      ]
     },
     "execution_count": 15,
     "metadata": {},
     "output_type": "execute_result"
    },
    {
     "data": {
      "image/png": "[encoded data removed]",
      "text/plain": [
       "<Figure size 432x288 with 1 Axes>"
      ]
     },
     "metadata": {},
     "output_type": "display_data"
    }
   ],
   "source": [
    "pd.Series(mood_lst).value_counts().plot.pie(autopct='%.2f')"
   ]
  },
  {
   "cell_type": "code",
   "execution_count": 16,
   "metadata": {},
   "outputs": [],
   "source": [
    "class2idx = {\n",
    "    'calm':0,\n",
    "    'energetic':1,\n",
    "    'happy':2,\n",
    "    'sad':3\n",
    "}\n",
    "\n",
    "idx2class = {v: k for k, v in class2idx.items()}\n",
    "\n",
    "mood_series = pd.Series(mood_lst).replace(class2idx)"
   ]
  },
  {
   "cell_type": "code",
   "execution_count": 17,
   "metadata": {},
   "outputs": [
    {
     "data": {
      "text/plain": [
       "0     3\n",
       "1     1\n",
       "2     1\n",
       "3     1\n",
       "4     2\n",
       "     ..\n",
       "63    3\n",
       "64    1\n",
       "65    0\n",
       "66    2\n",
       "67    1\n",
       "Length: 68, dtype: int64"
      ]
     },
     "execution_count": 17,
     "metadata": {},
     "output_type": "execute_result"
    }
   ],
   "source": [
    "mood_series"
   ]
  },
  {
   "cell_type": "code",
   "execution_count": 69,
   "metadata": {},
   "outputs": [],
   "source": [
    "X = y_lst\n",
    "y = mood_series.tolist()"
   ]
  },
  {
   "cell_type": "code",
   "execution_count": 26,
   "metadata": {},
   "outputs": [
    {
     "name": "stdout",
     "output_type": "stream",
     "text": [
      "(68, 1)\n"
     ]
    },
    {
     "name": "stderr",
     "output_type": "stream",
     "text": [
      "C:\\Users\\bheim\\miniconda3\\envs\\music_mood\\lib\\site-packages\\ipykernel_launcher.py:1: FutureWarning: Support for multi-dimensional indexing (e.g. `obj[:, None]`) is deprecated and will be removed in a future version.  Convert to a numpy array before indexing instead.\n",
      "  \"\"\"Entry point for launching an IPython kernel.\n"
     ]
    }
   ],
   "source": [
    "y = mood_series[:,np.newaxis]\n",
    "print(y.shape)"
   ]
  },
  {
   "cell_type": "code",
   "execution_count": 70,
   "metadata": {},
   "outputs": [],
   "source": [
    "X = [torch.Tensor(y[:, np.newaxis]) for y in y_lst]"
   ]
  },
  {
   "cell_type": "code",
   "execution_count": 71,
   "metadata": {},
   "outputs": [],
   "source": [
    "# Split into train+val and test\n",
    "X_trainval, X_test, y_trainval, y_test = train_test_split(X, y, test_size=0.2, stratify=y, random_state=69)\n",
    "\n",
    "# Split train into train-val\n",
    "X_train, X_val, y_train, y_val = train_test_split(X_trainval, y_trainval, test_size=0.1, stratify=y_trainval, random_state=21)"
   ]
  },
  {
   "cell_type": "code",
   "execution_count": 38,
   "metadata": {},
   "outputs": [],
   "source": [
    "# Normalize Input\n",
    "# scaler = MinMaxScaler()\n",
    "# X_train = scaler.fit_transform(X_train)\n",
    "# X_val = scaler.transform(X_val)\n",
    "# X_test = scaler.transform(X_test)\n",
    "# X_train, y_train = np.array(X_train), np.array(y_train)\n",
    "# X_val, y_val = np.array(X_val), np.array(y_val)\n",
    "# X_test, y_test = np.array(X_test), np.array(y_test)"
   ]
  },
  {
   "cell_type": "code",
   "execution_count": 39,
   "metadata": {},
   "outputs": [],
   "source": [
    "# Visualize Class Distribution in Train, Val, and Test\n",
    "def get_class_distribution(obj):\n",
    "    count_dict = {\n",
    "        \"calm\": 0,\n",
    "        \"energetic\": 0,\n",
    "        \"happy\": 0,\n",
    "        \"sad\": 0\n",
    "    }\n",
    "    \n",
    "    for i in obj:\n",
    "        if i == 0: \n",
    "            count_dict['calm'] += 1\n",
    "        elif i == 1: \n",
    "            count_dict['energetic'] += 1\n",
    "        elif i == 2: \n",
    "            count_dict['happy'] += 1\n",
    "        elif i == 3: \n",
    "            count_dict['sad'] += 1            \n",
    "        else:\n",
    "            print(\"Check classes.\")\n",
    "            \n",
    "    return count_dict"
   ]
  },
  {
   "cell_type": "code",
   "execution_count": 40,
   "metadata": {},
   "outputs": [
    {
     "data": {
      "text/plain": [
       "Text(0.5, 1.0, 'Class Distribution in Test Set')"
      ]
     },
     "execution_count": 40,
     "metadata": {},
     "output_type": "execute_result"
    },
    {
     "data": {
      "image/png": "[encoded data removed]",
      "text/plain": [
       "<Figure size 1800x504 with 3 Axes>"
      ]
     },
     "metadata": {
      "needs_background": "light"
     },
     "output_type": "display_data"
    }
   ],
   "source": [
    "train_count_df =  pd.DataFrame.from_dict([get_class_distribution(y_train)]).melt()\n",
    "validation_count_df =  pd.DataFrame.from_dict([get_class_distribution(y_val)]).melt()\n",
    "test_count_df =  pd.DataFrame.from_dict([get_class_distribution(y_test)]).melt()\n",
    "fig, axes = plt.subplots(nrows=1, ncols=3, figsize=(25,7))\n",
    "# Train\n",
    "axes[0].bar(train_count_df[\"variable\"], train_count_df[\"value\"])\n",
    "axes[0].set_title('Class Distribution in Train Set')\n",
    "\n",
    "# Validation\n",
    "axes[1].bar(validation_count_df[\"variable\"], validation_count_df[\"value\"])\n",
    "axes[1].set_title('Class Distribution in Validation Set')\n",
    "\n",
    "# Test\n",
    "axes[2].bar(test_count_df[\"variable\"], test_count_df[\"value\"])\n",
    "axes[2].set_title('Class Distribution in Test Set')\n"
   ]
  },
  {
   "cell_type": "code",
   "execution_count": 41,
   "metadata": {},
   "outputs": [],
   "source": [
    "# Custom Dataset\n",
    "class ClassifierDataset(Dataset):\n",
    "    \n",
    "    def __init__(self, X_data, y_data):\n",
    "        self.X_data = X_data\n",
    "        self.y_data = y_data\n",
    "        \n",
    "    def __getitem__(self, index):\n",
    "        return self.X_data[index], self.y_data[index]\n",
    "        \n",
    "    def __len__ (self):\n",
    "        return len(self.X_data)\n"
   ]
  },
  {
   "cell_type": "code",
   "execution_count": 42,
   "metadata": {},
   "outputs": [],
   "source": [
    "def merge(list1, list2, to_tensor=True):\n",
    "    if to_tensor:\n",
    "        merged_list = [(torch.Tensor(list1[i]), torch.tensor(list2[i])) for i in range(0, len(list1))]\n",
    "    else:\n",
    "        merged_list = [(list1[i], list2[i]) for i in range(0, len(list1))]\n",
    "    return merged_list\n",
    "      "
   ]
  },
  {
   "cell_type": "code",
   "execution_count": 72,
   "metadata": {},
   "outputs": [],
   "source": [
    "train_dataset = merge(X_train, y_train)\n",
    "test_dataset = merge(X_test, y_test)\n",
    "val_dataset = merge(X_val, y_val)"
   ]
  },
  {
   "cell_type": "code",
   "execution_count": 65,
   "metadata": {},
   "outputs": [
    {
     "name": "stdout",
     "output_type": "stream",
     "text": [
      "661500\n",
      "661500\n",
      "661500\n",
      "661500\n",
      "661501\n",
      "661501\n",
      "661500\n",
      "661500\n",
      "661500\n",
      "661500\n",
      "661501\n",
      "661500\n",
      "661500\n",
      "661500\n",
      "661500\n",
      "661500\n",
      "661500\n",
      "661501\n",
      "661500\n",
      "661500\n",
      "661500\n",
      "661501\n",
      "661500\n",
      "661500\n",
      "661500\n",
      "661501\n",
      "661500\n",
      "661501\n",
      "661500\n",
      "661500\n",
      "661501\n",
      "661500\n",
      "661501\n",
      "661500\n",
      "661500\n",
      "661501\n",
      "661500\n",
      "661501\n",
      "661500\n",
      "661500\n",
      "661500\n",
      "661500\n",
      "661500\n",
      "661501\n",
      "661500\n",
      "661500\n",
      "661501\n",
      "661500\n"
     ]
    }
   ],
   "source": [
    "for i in range(0, len(train_dataset)):\n",
    "    print(len(train_dataset[i][0]))"
   ]
  },
  {
   "cell_type": "code",
   "execution_count": null,
   "metadata": {},
   "outputs": [],
   "source": [
    "## USE THIS EXAMPLE RATHER THAN WHATEVER I HAVE BELOW - https://www.deeplearningwizard.com/deep_learning/practical_pytorch/pytorch_lstm_neuralnetwork/"
   ]
  },
  {
   "cell_type": "markdown",
   "metadata": {},
   "source": [
    "# Build model\n",
    "#####################\n",
    "input_dim = 1\n",
    "hidden_dim = 32\n",
    "num_layers = 2 \n",
    "output_dim = 4\n",
    "\n",
    "\n",
    "# Here we define our model as a class\n",
    "class LSTM(nn.Module):\n",
    "    def __init__(self, input_dim, hidden_dim, num_layers, output_dim):\n",
    "        super(LSTM, self).__init__()\n",
    "        # Hidden dimensions\n",
    "        self.hidden_dim = hidden_dim\n",
    "\n",
    "        # Number of hidden layers\n",
    "        self.num_layers = num_layers\n",
    "\n",
    "        # batch_first=True causes input/output tensors to be of shape\n",
    "        # (batch_dim, seq_dim, feature_dim)\n",
    "        self.lstm = nn.LSTM(input_dim, hidden_dim, num_layers, batch_first=True)\n",
    "\n",
    "        # Readout layer\n",
    "        self.fc = nn.Linear(hidden_dim, output_dim)\n",
    "\n",
    "    def forward(self, x):\n",
    "        # Initialize hidden state with zeros\n",
    "        h0 = torch.zeros(self.num_layers, x.size(0), self.hidden_dim).requires_grad_()\n",
    "\n",
    "        # Initialize cell state\n",
    "        c0 = torch.zeros(self.num_layers, x.size(0), self.hidden_dim).requires_grad_()\n",
    "\n",
    "        # We need to detach as we are doing truncated backpropagation through time (BPTT)\n",
    "        # If we don't, we'll backprop all the way to the start even after going through another batch\n",
    "        out, (hn, cn) = self.lstm(x, (h0.detach(), c0.detach()))\n",
    "\n",
    "        # Index hidden state of last time step\n",
    "        # out.size() --> 100, 32, 100\n",
    "        # out[:, -1, :] --> 100, 100 --> just want last time step hidden states! \n",
    "        out = self.fc(out[:, -1, :]) \n",
    "        # out.size() --> 100, 10\n",
    "        return out\n",
    "    \n"
   ]
  },
  {
   "cell_type": "markdown",
   "metadata": {},
   "source": [
    "device = torch.device(\"cuda:0\" if torch.cuda.is_available() else \"cpu\")\n",
    "print(device)"
   ]
  },
  {
   "cell_type": "markdown",
   "metadata": {},
   "source": [
    "model = LSTM(input_dim=input_dim, hidden_dim=hidden_dim, output_dim=output_dim, num_layers=num_layers)\n",
    "model.to(device)\n",
    "\n",
    "criterion = nn.CrossEntropyLoss(weight=class_weights.to(device))\n",
    "optimizer = optim.Adam(model.parameters(), lr=LEARNING_RATE)\n",
    "print(model)\n",
    "print(len(list(model.parameters())))\n",
    "for i in range(len(list(model.parameters()))):\n",
    "    print(list(model.parameters())[i].size())"
   ]
  },
  {
   "cell_type": "code",
   "execution_count": 44,
   "metadata": {},
   "outputs": [
    {
     "data": {
      "text/plain": [
       "tensor([-0.0273, -0.0193,  0.0206,  ..., -0.0781, -0.0566, -0.0399])"
      ]
     },
     "execution_count": 44,
     "metadata": {},
     "output_type": "execute_result"
    }
   ],
   "source": [
    "train_dataset[0][0]"
   ]
  },
  {
   "cell_type": "code",
   "execution_count": null,
   "metadata": {},
   "outputs": [],
   "source": []
  },
  {
   "cell_type": "markdown",
   "metadata": {},
   "source": [
    "epochs = 10\n",
    "\n",
    "for i in range(epochs):\n",
    "    for seq, labels in train_dataset:\n",
    "#         seq = seq.to(device)\n",
    "#         labels = labels.to(device)\n",
    "        optimizer.zero_grad()\n",
    "        model.hidden_cell = (torch.zeros(1, 1, model.hidden_layer_size),\n",
    "                        torch.zeros(1, 1, model.hidden_layer_size))\n",
    "#         model.hidden_cell.to(device)\n",
    "\n",
    "        y_pred = model(seq)\n",
    "\n",
    "        single_loss = loss_function(y_pred, labels)\n",
    "        single_loss.backward()\n",
    "        optimizer.step()\n",
    "\n",
    "    if i%1 == 1:\n",
    "        print(f'epoch: {i:3} loss: {single_loss.item():10.8f}')\n",
    "\n",
    "print(f'epoch: {i:3} loss: {single_loss.item():10.10f}')"
   ]
  },
  {
   "cell_type": "code",
   "execution_count": null,
   "metadata": {},
   "outputs": [],
   "source": []
  },
  {
   "cell_type": "code",
   "execution_count": null,
   "metadata": {},
   "outputs": [],
   "source": []
  },
  {
   "cell_type": "code",
   "execution_count": null,
   "metadata": {},
   "outputs": [],
   "source": []
  },
  {
   "cell_type": "markdown",
   "metadata": {},
   "source": [
    "# for imbalanced data"
   ]
  },
  {
   "cell_type": "code",
   "execution_count": 47,
   "metadata": {},
   "outputs": [],
   "source": [
    "# Weighted Sampling\n",
    "# First, we obtain a list called target_list which contains all our outputs. \n",
    "# This list is then converted to a tensor and shuffled.\n",
    "target_list = []\n",
    "for _, t in train_dataset:\n",
    "    target_list.append(t)\n",
    "    \n",
    "target_list = torch.tensor(target_list)\n",
    "target_list = target_list[torch.randperm(len(target_list))]"
   ]
  },
  {
   "cell_type": "code",
   "execution_count": 48,
   "metadata": {},
   "outputs": [
    {
     "name": "stdout",
     "output_type": "stream",
     "text": [
      "tensor([0.0625, 0.0667, 0.1111, 0.1250])\n"
     ]
    }
   ],
   "source": [
    "# Then, we obtain the count of all classes in our training set. \n",
    "# We use the reciprocal of each count to obtain it’s weight.\n",
    "class_count = [i for i in get_class_distribution(y_train).values()]\n",
    "class_weights = 1./torch.tensor(class_count, dtype=torch.float) \n",
    "print(class_weights)\n"
   ]
  },
  {
   "cell_type": "code",
   "execution_count": 49,
   "metadata": {},
   "outputs": [],
   "source": [
    "# WeightedRandomSampler expects a weight for each sample. \n",
    "class_weights_all = class_weights[target_list]"
   ]
  },
  {
   "cell_type": "code",
   "execution_count": 50,
   "metadata": {},
   "outputs": [],
   "source": [
    "# initialize our WeightedRandomSampler\n",
    "weighted_sampler = WeightedRandomSampler(\n",
    "    weights=class_weights_all,\n",
    "    num_samples=len(class_weights_all),\n",
    "    replacement=True\n",
    ")"
   ]
  },
  {
   "cell_type": "markdown",
   "metadata": {},
   "source": [
    "# Model Parameters"
   ]
  },
  {
   "cell_type": "code",
   "execution_count": 51,
   "metadata": {},
   "outputs": [],
   "source": [
    "EPOCHS = 3\n",
    "BATCH_SIZE = 1\n",
    "LEARNING_RATE = 0.01\n",
    "NUM_FEATURES = 1 #len(X.columns)\n",
    "NUM_CLASSES = 4\n",
    "\n",
    "input_dim = 1\n",
    "hidden_dim = 32\n",
    "num_layers = 2 \n",
    "output_dim = 4\n"
   ]
  },
  {
   "cell_type": "markdown",
   "metadata": {},
   "source": [
    "# Dataloader"
   ]
  },
  {
   "cell_type": "code",
   "execution_count": 73,
   "metadata": {},
   "outputs": [],
   "source": [
    "train_loader = DataLoader(dataset=train_dataset,\n",
    "                          batch_size=BATCH_SIZE,\n",
    "                          sampler=weighted_sampler\n",
    ")\n",
    "val_loader = DataLoader(dataset=val_dataset, batch_size=1)\n",
    "test_loader = DataLoader(dataset=test_dataset, batch_size=1)"
   ]
  },
  {
   "cell_type": "markdown",
   "metadata": {},
   "source": [
    "# Define Neural Net Architecture\n"
   ]
  },
  {
   "cell_type": "code",
   "execution_count": 53,
   "metadata": {},
   "outputs": [],
   "source": [
    "class MulticlassClassification(nn.Module):\n",
    "    def __init__(self, num_feature, num_class):\n",
    "        super(MulticlassClassification, self).__init__()\n",
    "        \n",
    "        self.layer_1 = nn.Linear(num_feature, 512)\n",
    "        self.layer_2 = nn.Linear(512, 128)\n",
    "        self.layer_3 = nn.Linear(128, 64)\n",
    "        self.layer_out = nn.Linear(64, num_class) \n",
    "        \n",
    "        self.relu = nn.ReLU()\n",
    "        self.dropout = nn.Dropout(p=0.2)\n",
    "        self.batchnorm1 = nn.BatchNorm1d(512)\n",
    "        self.batchnorm2 = nn.BatchNorm1d(128)\n",
    "        self.batchnorm3 = nn.BatchNorm1d(64)\n",
    "        \n",
    "    def forward(self, x):\n",
    "        x = self.layer_1(x)\n",
    "        x = self.batchnorm1(x)\n",
    "        x = self.relu(x)\n",
    "        \n",
    "        x = self.layer_2(x)\n",
    "        x = self.batchnorm2(x)\n",
    "        x = self.relu(x)\n",
    "        x = self.dropout(x)\n",
    "        \n",
    "        x = self.layer_3(x)\n",
    "        x = self.batchnorm3(x)\n",
    "        x = self.relu(x)\n",
    "        x = self.dropout(x)\n",
    "        \n",
    "        x = self.layer_out(x)\n",
    "        \n",
    "        return x"
   ]
  },
  {
   "cell_type": "code",
   "execution_count": 54,
   "metadata": {},
   "outputs": [],
   "source": [
    "# Here we define our model as a class\n",
    "class LSTM(nn.Module):\n",
    "    def __init__(self, input_dim, hidden_dim, num_layers, output_dim):\n",
    "        super(LSTM, self).__init__()\n",
    "        # Hidden dimensions\n",
    "        self.hidden_dim = hidden_dim\n",
    "\n",
    "        # Number of hidden layers\n",
    "        self.num_layers = num_layers\n",
    "\n",
    "        # batch_first=True causes input/output tensors to be of shape\n",
    "        # (batch_dim, seq_dim, feature_dim)\n",
    "        self.lstm = nn.LSTM(input_dim, hidden_dim, num_layers, batch_first=True)\n",
    "\n",
    "        # Readout layer\n",
    "        self.fc = nn.Linear(hidden_dim, output_dim)\n",
    "\n",
    "    def forward(self, x):\n",
    "        # Initialize hidden state with zeros\n",
    "        h0 = torch.zeros(self.num_layers, x.size(0), self.hidden_dim).requires_grad_()\n",
    "\n",
    "        # Initialize cell state\n",
    "        c0 = torch.zeros(self.num_layers, x.size(0), self.hidden_dim).requires_grad_()\n",
    "\n",
    "        # We need to detach as we are doing truncated backpropagation through time (BPTT)\n",
    "        # If we don't, we'll backprop all the way to the start even after going through another batch\n",
    "        out, (hn, cn) = self.lstm(x, (h0.detach(), c0.detach()))\n",
    "\n",
    "        # Index hidden state of last time step\n",
    "        # out.size() --> 100, 32, 100\n",
    "        # out[:, -1, :] --> 100, 100 --> just want last time step hidden states! \n",
    "        out = self.fc(out[:, -1, :]) \n",
    "        # out.size() --> 100, 10\n",
    "        return out"
   ]
  },
  {
   "cell_type": "code",
   "execution_count": 55,
   "metadata": {},
   "outputs": [
    {
     "name": "stdout",
     "output_type": "stream",
     "text": [
      "cuda:0\n"
     ]
    }
   ],
   "source": [
    "device = torch.device(\"cuda:0\" if torch.cuda.is_available() else \"cpu\")\n",
    "print(device)\n"
   ]
  },
  {
   "cell_type": "code",
   "execution_count": 56,
   "metadata": {},
   "outputs": [
    {
     "name": "stdout",
     "output_type": "stream",
     "text": [
      "LSTM(\n",
      "  (lstm): LSTM(1, 32, num_layers=2, batch_first=True)\n",
      "  (fc): Linear(in_features=32, out_features=4, bias=True)\n",
      ")\n",
      "10\n",
      "torch.Size([128, 1])\n",
      "torch.Size([128, 32])\n",
      "torch.Size([128])\n",
      "torch.Size([128])\n",
      "torch.Size([128, 32])\n",
      "torch.Size([128, 32])\n",
      "torch.Size([128])\n",
      "torch.Size([128])\n",
      "torch.Size([4, 32])\n",
      "torch.Size([4])\n"
     ]
    }
   ],
   "source": [
    "# Initialize the model, optimizer, and loss function. \n",
    "# Transfer the model to GPU. \n",
    "# We’re using the nn.CrossEntropyLoss because this is a multiclass classification problem. \n",
    "# We don’t have to manually apply a log_softmax layer after our final layer because nn.CrossEntropyLoss does that for us. \n",
    "# However, we need to apply log_softmax for our validation and testing.\n",
    "model = LSTM(input_dim=input_dim, hidden_dim=hidden_dim, output_dim=output_dim, num_layers=num_layers)\n",
    "model.to(device)\n",
    "\n",
    "criterion = nn.CrossEntropyLoss(weight=class_weights.to(device))\n",
    "optimizer = optim.Adam(model.parameters(), lr=LEARNING_RATE)\n",
    "\n",
    "print(model)\n",
    "print(len(list(model.parameters())))\n",
    "for i in range(len(list(model.parameters()))):\n",
    "    print(list(model.parameters())[i].size())"
   ]
  },
  {
   "cell_type": "code",
   "execution_count": 57,
   "metadata": {},
   "outputs": [],
   "source": [
    "# function to calculate accuracy per epoch\n",
    "def multi_acc(y_pred, y_test):\n",
    "    y_pred_softmax = torch.log_softmax(y_pred, dim = 1)\n",
    "    _, y_pred_tags = torch.max(y_pred_softmax, dim = 1)    \n",
    "    \n",
    "    correct_pred = (y_pred_tags == y_test).float()\n",
    "    acc = correct_pred.sum() / len(correct_pred)\n",
    "    \n",
    "    acc = torch.round(acc * 100)\n",
    "    \n",
    "    return acc"
   ]
  },
  {
   "cell_type": "code",
   "execution_count": 58,
   "metadata": {},
   "outputs": [],
   "source": [
    "accuracy_stats = {\n",
    "    'train': [],\n",
    "    \"val\": []\n",
    "}\n",
    "loss_stats = {\n",
    "    'train': [],\n",
    "    \"val\": []\n",
    "}"
   ]
  },
  {
   "cell_type": "code",
   "execution_count": 74,
   "metadata": {},
   "outputs": [
    {
     "name": "stdout",
     "output_type": "stream",
     "text": [
      "torch.Size([1, 661500, 1]) torch.Size([1])\n",
      "torch.Size([1, 661500, 1]) torch.Size([1])\n",
      "torch.Size([1, 661500, 1]) torch.Size([1])\n",
      "torch.Size([1, 661500, 1]) torch.Size([1])\n",
      "torch.Size([1, 661500, 1]) torch.Size([1])\n",
      "torch.Size([1, 661501, 1]) torch.Size([1])\n",
      "torch.Size([1, 661500, 1]) torch.Size([1])\n",
      "torch.Size([1, 661500, 1]) torch.Size([1])\n",
      "torch.Size([1, 661500, 1]) torch.Size([1])\n",
      "torch.Size([1, 661500, 1]) torch.Size([1])\n",
      "torch.Size([1, 661501, 1]) torch.Size([1])\n",
      "torch.Size([1, 661500, 1]) torch.Size([1])\n",
      "torch.Size([1, 661500, 1]) torch.Size([1])\n",
      "torch.Size([1, 661500, 1]) torch.Size([1])\n",
      "torch.Size([1, 661500, 1]) torch.Size([1])\n",
      "torch.Size([1, 661500, 1]) torch.Size([1])\n",
      "torch.Size([1, 661500, 1]) torch.Size([1])\n",
      "torch.Size([1, 661500, 1]) torch.Size([1])\n",
      "torch.Size([1, 661501, 1]) torch.Size([1])\n",
      "torch.Size([1, 661501, 1]) torch.Size([1])\n",
      "torch.Size([1, 661500, 1]) torch.Size([1])\n",
      "torch.Size([1, 661500, 1]) torch.Size([1])\n",
      "torch.Size([1, 661501, 1]) torch.Size([1])\n",
      "torch.Size([1, 661500, 1]) torch.Size([1])\n",
      "torch.Size([1, 661500, 1]) torch.Size([1])\n",
      "torch.Size([1, 661500, 1]) torch.Size([1])\n",
      "torch.Size([1, 661501, 1]) torch.Size([1])\n",
      "torch.Size([1, 661500, 1]) torch.Size([1])\n",
      "torch.Size([1, 661500, 1]) torch.Size([1])\n",
      "torch.Size([1, 661500, 1]) torch.Size([1])\n",
      "torch.Size([1, 661500, 1]) torch.Size([1])\n",
      "torch.Size([1, 661500, 1]) torch.Size([1])\n",
      "torch.Size([1, 661500, 1]) torch.Size([1])\n",
      "torch.Size([1, 661500, 1]) torch.Size([1])\n",
      "torch.Size([1, 661500, 1]) torch.Size([1])\n",
      "torch.Size([1, 661500, 1]) torch.Size([1])\n",
      "torch.Size([1, 661500, 1]) torch.Size([1])\n",
      "torch.Size([1, 661501, 1]) torch.Size([1])\n",
      "torch.Size([1, 661500, 1]) torch.Size([1])\n",
      "torch.Size([1, 661500, 1]) torch.Size([1])\n",
      "torch.Size([1, 661500, 1]) torch.Size([1])\n",
      "torch.Size([1, 661500, 1]) torch.Size([1])\n",
      "torch.Size([1, 661500, 1]) torch.Size([1])\n",
      "torch.Size([1, 661500, 1]) torch.Size([1])\n",
      "torch.Size([1, 661500, 1]) torch.Size([1])\n",
      "torch.Size([1, 661500, 1]) torch.Size([1])\n",
      "torch.Size([1, 661500, 1]) torch.Size([1])\n",
      "torch.Size([1, 661500, 1]) torch.Size([1])\n"
     ]
    }
   ],
   "source": [
    "for X_train_batch, y_train_batch in train_loader:\n",
    "    print(X_train_batch.shape, y_train_batch.shape)"
   ]
  },
  {
   "cell_type": "code",
   "execution_count": null,
   "metadata": {},
   "outputs": [
    {
     "name": "stdout",
     "output_type": "stream",
     "text": [
      "Begin training.\n"
     ]
    },
    {
     "data": {
      "application/vnd.jupyter.widget-view+json": {
       "model_id": "c6827fb3473d42e9a97edaee421437c3",
       "version_major": 2,
       "version_minor": 0
      },
      "text/plain": [
       "  0%|          | 0/3 [00:00<?, ?it/s]"
      ]
     },
     "metadata": {},
     "output_type": "display_data"
    }
   ],
   "source": [
    "print(\"Begin training.\")\n",
    "for e in tqdm(range(1, EPOCHS+1)):\n",
    "    \n",
    "    # TRAINING\n",
    "    train_epoch_loss = 0\n",
    "    train_epoch_acc = 0\n",
    "    model.train()\n",
    "    for X_train_batch, y_train_batch in train_loader:\n",
    "        X_train_batch, y_train_batch = X_train_batch.to(device), y_train_batch.to(device)\n",
    "        optimizer.zero_grad()\n",
    "        \n",
    "        y_train_pred = model(X_train_batch)\n",
    "        \n",
    "        train_loss = criterion(y_train_pred, y_train_batch)\n",
    "        train_acc = multi_acc(y_train_pred, y_train_batch)\n",
    "        \n",
    "        train_loss.backward()\n",
    "        optimizer.step()\n",
    "        \n",
    "        train_epoch_loss += train_loss.item()\n",
    "        train_epoch_acc += train_acc.item()\n",
    "        \n",
    "        \n",
    "    # VALIDATION    \n",
    "    with torch.no_grad():\n",
    "        \n",
    "        val_epoch_loss = 0\n",
    "        val_epoch_acc = 0\n",
    "        \n",
    "        model.eval()\n",
    "        for X_val_batch, y_val_batch in val_loader:\n",
    "            X_val_batch, y_val_batch = X_val_batch.to(device), y_val_batch.to(device)\n",
    "            \n",
    "            y_val_pred = model(X_val_batch)\n",
    "                        \n",
    "            val_loss = criterion(y_val_pred, y_val_batch)\n",
    "            val_acc = multi_acc(y_val_pred, y_val_batch)\n",
    "            \n",
    "            val_epoch_loss += val_loss.item()\n",
    "            val_epoch_acc += val_acc.item()\n",
    "    loss_stats['train'].append(train_epoch_loss/len(train_loader))\n",
    "    loss_stats['val'].append(val_epoch_loss/len(val_loader))\n",
    "    accuracy_stats['train'].append(train_epoch_acc/len(train_loader))\n",
    "    accuracy_stats['val'].append(val_epoch_acc/len(val_loader))\n",
    "                              \n",
    "    \n",
    "    print(f'Epoch {e+0:03}: | Train Loss: {train_epoch_loss/len(train_loader):.5f} | Val Loss: {val_epoch_loss/len(val_loader):.5f} | Train Acc: {train_epoch_acc/len(train_loader):.3f}| Val Acc: {val_epoch_acc/len(val_loader):.3f}')"
   ]
  },
  {
   "cell_type": "code",
   "execution_count": 54,
   "metadata": {},
   "outputs": [
    {
     "data": {
      "text/plain": [
       "Text(0.5, 1.0, 'Train-Val Loss/Epoch')"
      ]
     },
     "execution_count": 54,
     "metadata": {},
     "output_type": "execute_result"
    },
    {
     "data": {
      "image/png": "[encoded data removed]",
      "text/plain": [
       "<Figure size 1440x504 with 2 Axes>"
      ]
     },
     "metadata": {
      "needs_background": "light"
     },
     "output_type": "display_data"
    }
   ],
   "source": [
    "# Create dataframes\n",
    "train_val_acc_df = pd.DataFrame.from_dict(accuracy_stats).reset_index().melt(id_vars=['index']).rename(columns={\"index\":\"epochs\"})\n",
    "train_val_loss_df = pd.DataFrame.from_dict(loss_stats).reset_index().melt(id_vars=['index']).rename(columns={\"index\":\"epochs\"})\n",
    "# Plot the dataframes\n",
    "fig, axes = plt.subplots(nrows=1, ncols=2, figsize=(20,7))\n",
    "axes[0].plot(train_val_acc_df[train_val_acc_df[\"variable\"]=='train'][\"epochs\"], train_val_acc_df[train_val_acc_df[\"variable\"]=='train'][\"value\"],label = \"train\")\n",
    "axes[0].plot(train_val_acc_df[train_val_acc_df[\"variable\"]=='val'][\"epochs\"], train_val_acc_df[train_val_acc_df[\"variable\"]=='val'][\"value\"],label = \"val\")\n",
    "axes[0].set_title('Train-Val Accuracy/Epoch')\n",
    "axes[0].legend()\n",
    "\n",
    "axes[1].plot(train_val_loss_df[train_val_loss_df[\"variable\"]=='train'][\"epochs\"], train_val_loss_df[train_val_loss_df[\"variable\"]=='train'][\"value\"],label = \"train\")\n",
    "axes[1].plot(train_val_loss_df[train_val_loss_df[\"variable\"]=='val'][\"epochs\"], train_val_loss_df[train_val_loss_df[\"variable\"]=='val'][\"value\"],label = \"val\")\n",
    "axes[1].legend()\n",
    "axes[1].set_title('Train-Val Loss/Epoch')"
   ]
  },
  {
   "cell_type": "markdown",
   "metadata": {},
   "source": [
    "# Test the model"
   ]
  },
  {
   "cell_type": "code",
   "execution_count": 68,
   "metadata": {},
   "outputs": [],
   "source": [
    "y_pred_list = []\n",
    "with torch.no_grad():\n",
    "    model.eval()\n",
    "    for X_batch, _ in test_loader:\n",
    "        X_batch = X_batch.to(device)\n",
    "        y_test_pred = model(X_batch)\n",
    "        _, y_pred_tags = torch.max(y_test_pred, dim = 1)\n",
    "        y_pred_list.append(y_pred_tags.cpu().numpy())\n",
    "y_pred_list = [a.squeeze().tolist() for a in y_pred_list]"
   ]
  },
  {
   "cell_type": "code",
   "execution_count": 78,
   "metadata": {},
   "outputs": [
    {
     "data": {
      "image/png": "[encoded data removed]",
      "text/plain": [
       "<Figure size 432x288 with 2 Axes>"
      ]
     },
     "metadata": {
      "needs_background": "light"
     },
     "output_type": "display_data"
    }
   ],
   "source": [
    "cm = confusion_matrix(y_test, y_pred_list)\n",
    "confusion_matrix_df = pd.DataFrame(cm).rename(columns=idx2class, index=idx2class)\n",
    "labels = confusion_matrix_df.columns.tolist()\n",
    "# plt.imshow(confusion_matrix_df)\n",
    "fig = plt.figure()\n",
    "ax = fig.add_subplot(111)\n",
    "cax = ax.matshow(cm)\n",
    "plt.title('Confusion matrix of the classifier')\n",
    "fig.colorbar(cax)\n",
    "# We want to show all ticks...\n",
    "ax.set_xticks(np.arange(len(labels)))\n",
    "ax.set_yticks(np.arange(len(labels)))\n",
    "ax.set_xticklabels(labels)\n",
    "ax.set_yticklabels(labels)\n",
    "plt.xlabel('Predicted')\n",
    "plt.ylabel('True')\n",
    "\n",
    "# Loop over data dimensions and create text annotations.\n",
    "for i in range(len(labels)):\n",
    "    for j in range(len(labels)):\n",
    "        text = ax.text(j, i, cm[i, j],\n",
    "                       ha=\"center\", va=\"center\", color=\"w\")\n",
    "\n",
    "plt.show()"
   ]
  },
  {
   "cell_type": "code",
   "execution_count": 70,
   "metadata": {},
   "outputs": [
    {
     "data": {
      "text/html": [
       "<div>\n",
       "<style scoped>\n",
       "    .dataframe tbody tr th:only-of-type {\n",
       "        vertical-align: middle;\n",
       "    }\n",
       "\n",
       "    .dataframe tbody tr th {\n",
       "        vertical-align: top;\n",
       "    }\n",
       "\n",
       "    .dataframe thead th {\n",
       "        text-align: right;\n",
       "    }\n",
       "</style>\n",
       "<table border=\"1\" class=\"dataframe\">\n",
       "  <thead>\n",
       "    <tr style=\"text-align: right;\">\n",
       "      <th></th>\n",
       "      <th>calm</th>\n",
       "      <th>energetic</th>\n",
       "      <th>happy</th>\n",
       "      <th>sad</th>\n",
       "    </tr>\n",
       "  </thead>\n",
       "  <tbody>\n",
       "    <tr>\n",
       "      <th>calm</th>\n",
       "      <td>83</td>\n",
       "      <td>1</td>\n",
       "      <td>0</td>\n",
       "      <td>3</td>\n",
       "    </tr>\n",
       "    <tr>\n",
       "      <th>energetic</th>\n",
       "      <td>0</td>\n",
       "      <td>88</td>\n",
       "      <td>2</td>\n",
       "      <td>0</td>\n",
       "    </tr>\n",
       "    <tr>\n",
       "      <th>happy</th>\n",
       "      <td>0</td>\n",
       "      <td>66</td>\n",
       "      <td>19</td>\n",
       "      <td>10</td>\n",
       "    </tr>\n",
       "    <tr>\n",
       "      <th>sad</th>\n",
       "      <td>0</td>\n",
       "      <td>12</td>\n",
       "      <td>11</td>\n",
       "      <td>59</td>\n",
       "    </tr>\n",
       "  </tbody>\n",
       "</table>\n",
       "</div>"
      ],
      "text/plain": [
       "           calm  energetic  happy  sad\n",
       "calm         83          1      0    3\n",
       "energetic     0         88      2    0\n",
       "happy         0         66     19   10\n",
       "sad           0         12     11   59"
      ]
     },
     "execution_count": 70,
     "metadata": {},
     "output_type": "execute_result"
    }
   ],
   "source": [
    "confusion_matrix_df"
   ]
  },
  {
   "cell_type": "code",
   "execution_count": 79,
   "metadata": {},
   "outputs": [
    {
     "name": "stdout",
     "output_type": "stream",
     "text": [
      "              precision    recall  f1-score   support\n",
      "\n",
      "           0       1.00      0.95      0.98        87\n",
      "           1       0.53      0.98      0.68        90\n",
      "           2       0.59      0.20      0.30        95\n",
      "           3       0.82      0.72      0.77        82\n",
      "\n",
      "    accuracy                           0.70       354\n",
      "   macro avg       0.74      0.71      0.68       354\n",
      "weighted avg       0.73      0.70      0.67       354\n",
      "\n"
     ]
    }
   ],
   "source": [
    "print(classification_report(y_test, y_pred_list))\n"
   ]
  },
  {
   "cell_type": "code",
   "execution_count": null,
   "metadata": {},
   "outputs": [],
   "source": []
  }
 ],
 "metadata": {
  "kernelspec": {
   "display_name": "Python 3",
   "language": "python",
   "name": "python3"
  },
  "language_info": {
   "codemirror_mode": {
    "name": "ipython",
    "version": 3
   },
   "file_extension": ".py",
   "mimetype": "text/x-python",
   "name": "python",
   "nbconvert_exporter": "python",
   "pygments_lexer": "ipython3",
   "version": "3.7.1"
  }
 },
 "nbformat": 4,
 "nbformat_minor": 5
}
