{
 "cells": [
  {
   "cell_type": "markdown",
   "id": "b07c656b",
   "metadata": {},
   "source": [
    "# Source \n",
    "https://towardsdatascience.com/pytorch-tabular-multiclass-classification-9f8211a123ab"
   ]
  },
  {
   "cell_type": "code",
   "execution_count": 58,
   "id": "fc4f8454",
   "metadata": {},
   "outputs": [],
   "source": [
    "import pandas as pd\n",
    "import numpy as np\n",
    "import matplotlib.pyplot as plt\n",
    "\n",
    "import os\n",
    "import pathlib\n",
    "\n",
    "import torch\n",
    "from torch.utils.data import Dataset, DataLoader, WeightedRandomSampler\n",
    "import torch.nn as nn\n",
    "import torch.optim as optim\n",
    "\n",
    "# tqdm to enable progress bars for training and testing loops\n",
    "from tqdm.notebook import tqdm\n",
    "\n",
    "\n",
    "from sklearn.preprocessing import MinMaxScaler    \n",
    "from sklearn.model_selection import train_test_split\n",
    "from sklearn.metrics import confusion_matrix, classification_report\n"
   ]
  },
  {
   "cell_type": "code",
   "execution_count": 2,
   "id": "90a407c7",
   "metadata": {},
   "outputs": [],
   "source": [
    "moods = ['calm', 'energetic', 'happy', 'sad']"
   ]
  },
  {
   "cell_type": "code",
   "execution_count": 3,
   "id": "c98ea648",
   "metadata": {},
   "outputs": [],
   "source": [
    "files = []\n",
    "for g in moods:\n",
    "    for filename in os.listdir(f'./{g}'):\n",
    "        file_name = f'./{g}/{filename}'\n",
    "        files.append(file_name)"
   ]
  },
  {
   "cell_type": "code",
   "execution_count": 4,
   "id": "9d2de9e8",
   "metadata": {},
   "outputs": [],
   "source": [
    "combined_df = pd.concat([pd.read_csv(file) for file in files])"
   ]
  },
  {
   "cell_type": "code",
   "execution_count": 5,
   "id": "0e793b24",
   "metadata": {},
   "outputs": [
    {
     "data": {
      "text/html": [
       "<div>\n",
       "<style scoped>\n",
       "    .dataframe tbody tr th:only-of-type {\n",
       "        vertical-align: middle;\n",
       "    }\n",
       "\n",
       "    .dataframe tbody tr th {\n",
       "        vertical-align: top;\n",
       "    }\n",
       "\n",
       "    .dataframe thead th {\n",
       "        text-align: right;\n",
       "    }\n",
       "</style>\n",
       "<table border=\"1\" class=\"dataframe\">\n",
       "  <thead>\n",
       "    <tr style=\"text-align: right;\">\n",
       "      <th></th>\n",
       "      <th>Unnamed: 0</th>\n",
       "      <th>danceability</th>\n",
       "      <th>energy</th>\n",
       "      <th>key</th>\n",
       "      <th>loudness</th>\n",
       "      <th>mode</th>\n",
       "      <th>speechiness</th>\n",
       "      <th>acousticness</th>\n",
       "      <th>instrumentalness</th>\n",
       "      <th>liveness</th>\n",
       "      <th>valence</th>\n",
       "      <th>tempo</th>\n",
       "      <th>type</th>\n",
       "      <th>id</th>\n",
       "      <th>uri</th>\n",
       "      <th>track_href</th>\n",
       "      <th>analysis_url</th>\n",
       "      <th>duration_ms</th>\n",
       "      <th>time_signature</th>\n",
       "      <th>mood</th>\n",
       "    </tr>\n",
       "  </thead>\n",
       "  <tbody>\n",
       "    <tr>\n",
       "      <th>0</th>\n",
       "      <td>0</td>\n",
       "      <td>0.453</td>\n",
       "      <td>0.04360</td>\n",
       "      <td>10</td>\n",
       "      <td>-25.912</td>\n",
       "      <td>0</td>\n",
       "      <td>0.0364</td>\n",
       "      <td>0.990</td>\n",
       "      <td>0.842</td>\n",
       "      <td>0.1110</td>\n",
       "      <td>0.1980</td>\n",
       "      <td>71.987</td>\n",
       "      <td>audio_features</td>\n",
       "      <td>7FyzToHhKG9b9gS19kWg8a</td>\n",
       "      <td>spotify:track:7FyzToHhKG9b9gS19kWg8a</td>\n",
       "      <td>https://api.spotify.com/v1/tracks/7FyzToHhKG9b...</td>\n",
       "      <td>https://api.spotify.com/v1/audio-analysis/7Fyz...</td>\n",
       "      <td>166000</td>\n",
       "      <td>4</td>\n",
       "      <td>calm</td>\n",
       "    </tr>\n",
       "    <tr>\n",
       "      <th>1</th>\n",
       "      <td>1</td>\n",
       "      <td>0.437</td>\n",
       "      <td>0.01840</td>\n",
       "      <td>8</td>\n",
       "      <td>-30.783</td>\n",
       "      <td>1</td>\n",
       "      <td>0.0413</td>\n",
       "      <td>0.994</td>\n",
       "      <td>0.930</td>\n",
       "      <td>0.1140</td>\n",
       "      <td>0.0478</td>\n",
       "      <td>119.985</td>\n",
       "      <td>audio_features</td>\n",
       "      <td>5a8V9tjazhBAIbUiFqpu8N</td>\n",
       "      <td>spotify:track:5a8V9tjazhBAIbUiFqpu8N</td>\n",
       "      <td>https://api.spotify.com/v1/tracks/5a8V9tjazhBA...</td>\n",
       "      <td>https://api.spotify.com/v1/audio-analysis/5a8V...</td>\n",
       "      <td>205794</td>\n",
       "      <td>4</td>\n",
       "      <td>calm</td>\n",
       "    </tr>\n",
       "    <tr>\n",
       "      <th>2</th>\n",
       "      <td>2</td>\n",
       "      <td>0.366</td>\n",
       "      <td>0.01610</td>\n",
       "      <td>5</td>\n",
       "      <td>-27.355</td>\n",
       "      <td>1</td>\n",
       "      <td>0.0632</td>\n",
       "      <td>0.992</td>\n",
       "      <td>0.951</td>\n",
       "      <td>0.1100</td>\n",
       "      <td>0.1710</td>\n",
       "      <td>49.668</td>\n",
       "      <td>audio_features</td>\n",
       "      <td>3WiissyVFRpCVrqbyPKZxZ</td>\n",
       "      <td>spotify:track:3WiissyVFRpCVrqbyPKZxZ</td>\n",
       "      <td>https://api.spotify.com/v1/tracks/3WiissyVFRpC...</td>\n",
       "      <td>https://api.spotify.com/v1/audio-analysis/3Wii...</td>\n",
       "      <td>121068</td>\n",
       "      <td>4</td>\n",
       "      <td>calm</td>\n",
       "    </tr>\n",
       "    <tr>\n",
       "      <th>3</th>\n",
       "      <td>3</td>\n",
       "      <td>0.385</td>\n",
       "      <td>0.00786</td>\n",
       "      <td>0</td>\n",
       "      <td>-25.033</td>\n",
       "      <td>1</td>\n",
       "      <td>0.0546</td>\n",
       "      <td>0.996</td>\n",
       "      <td>0.843</td>\n",
       "      <td>0.0928</td>\n",
       "      <td>0.1290</td>\n",
       "      <td>74.284</td>\n",
       "      <td>audio_features</td>\n",
       "      <td>3orRX2Ms4jy4dU9KqJ9zT1</td>\n",
       "      <td>spotify:track:3orRX2Ms4jy4dU9KqJ9zT1</td>\n",
       "      <td>https://api.spotify.com/v1/tracks/3orRX2Ms4jy4...</td>\n",
       "      <td>https://api.spotify.com/v1/audio-analysis/3orR...</td>\n",
       "      <td>180000</td>\n",
       "      <td>4</td>\n",
       "      <td>calm</td>\n",
       "    </tr>\n",
       "    <tr>\n",
       "      <th>4</th>\n",
       "      <td>4</td>\n",
       "      <td>0.381</td>\n",
       "      <td>0.00324</td>\n",
       "      <td>6</td>\n",
       "      <td>-33.019</td>\n",
       "      <td>0</td>\n",
       "      <td>0.0351</td>\n",
       "      <td>0.994</td>\n",
       "      <td>0.885</td>\n",
       "      <td>0.0746</td>\n",
       "      <td>0.0839</td>\n",
       "      <td>101.624</td>\n",
       "      <td>audio_features</td>\n",
       "      <td>536rm114S2ByPbh906pksj</td>\n",
       "      <td>spotify:track:536rm114S2ByPbh906pksj</td>\n",
       "      <td>https://api.spotify.com/v1/tracks/536rm114S2By...</td>\n",
       "      <td>https://api.spotify.com/v1/audio-analysis/536r...</td>\n",
       "      <td>156000</td>\n",
       "      <td>4</td>\n",
       "      <td>calm</td>\n",
       "    </tr>\n",
       "  </tbody>\n",
       "</table>\n",
       "</div>"
      ],
      "text/plain": [
       "   Unnamed: 0  danceability   energy  key  loudness  mode  speechiness  \\\n",
       "0           0         0.453  0.04360   10   -25.912     0       0.0364   \n",
       "1           1         0.437  0.01840    8   -30.783     1       0.0413   \n",
       "2           2         0.366  0.01610    5   -27.355     1       0.0632   \n",
       "3           3         0.385  0.00786    0   -25.033     1       0.0546   \n",
       "4           4         0.381  0.00324    6   -33.019     0       0.0351   \n",
       "\n",
       "   acousticness  instrumentalness  liveness  valence    tempo            type  \\\n",
       "0         0.990             0.842    0.1110   0.1980   71.987  audio_features   \n",
       "1         0.994             0.930    0.1140   0.0478  119.985  audio_features   \n",
       "2         0.992             0.951    0.1100   0.1710   49.668  audio_features   \n",
       "3         0.996             0.843    0.0928   0.1290   74.284  audio_features   \n",
       "4         0.994             0.885    0.0746   0.0839  101.624  audio_features   \n",
       "\n",
       "                       id                                   uri  \\\n",
       "0  7FyzToHhKG9b9gS19kWg8a  spotify:track:7FyzToHhKG9b9gS19kWg8a   \n",
       "1  5a8V9tjazhBAIbUiFqpu8N  spotify:track:5a8V9tjazhBAIbUiFqpu8N   \n",
       "2  3WiissyVFRpCVrqbyPKZxZ  spotify:track:3WiissyVFRpCVrqbyPKZxZ   \n",
       "3  3orRX2Ms4jy4dU9KqJ9zT1  spotify:track:3orRX2Ms4jy4dU9KqJ9zT1   \n",
       "4  536rm114S2ByPbh906pksj  spotify:track:536rm114S2ByPbh906pksj   \n",
       "\n",
       "                                          track_href  \\\n",
       "0  https://api.spotify.com/v1/tracks/7FyzToHhKG9b...   \n",
       "1  https://api.spotify.com/v1/tracks/5a8V9tjazhBA...   \n",
       "2  https://api.spotify.com/v1/tracks/3WiissyVFRpC...   \n",
       "3  https://api.spotify.com/v1/tracks/3orRX2Ms4jy4...   \n",
       "4  https://api.spotify.com/v1/tracks/536rm114S2By...   \n",
       "\n",
       "                                        analysis_url  duration_ms  \\\n",
       "0  https://api.spotify.com/v1/audio-analysis/7Fyz...       166000   \n",
       "1  https://api.spotify.com/v1/audio-analysis/5a8V...       205794   \n",
       "2  https://api.spotify.com/v1/audio-analysis/3Wii...       121068   \n",
       "3  https://api.spotify.com/v1/audio-analysis/3orR...       180000   \n",
       "4  https://api.spotify.com/v1/audio-analysis/536r...       156000   \n",
       "\n",
       "   time_signature  mood  \n",
       "0               4  calm  \n",
       "1               4  calm  \n",
       "2               4  calm  \n",
       "3               4  calm  \n",
       "4               4  calm  "
      ]
     },
     "execution_count": 5,
     "metadata": {},
     "output_type": "execute_result"
    }
   ],
   "source": [
    "# combined_df.set_index('id')\n",
    "combined_df.head()"
   ]
  },
  {
   "cell_type": "code",
   "execution_count": 6,
   "id": "821a435c",
   "metadata": {},
   "outputs": [],
   "source": [
    "train_col = ['id','danceability', 'energy', 'key', 'mode', \n",
    "             'speechiness', 'acousticness','instrumentalness', 'liveness',\n",
    "             'valence','tempo','time_signature']\n",
    "predict_col = 'mood'"
   ]
  },
  {
   "cell_type": "code",
   "execution_count": 7,
   "id": "b815b1d7",
   "metadata": {},
   "outputs": [],
   "source": [
    "df_features = combined_df[train_col + [predict_col]]"
   ]
  },
  {
   "cell_type": "code",
   "execution_count": 8,
   "id": "28626a20",
   "metadata": {},
   "outputs": [
    {
     "data": {
      "text/html": [
       "<div>\n",
       "<style scoped>\n",
       "    .dataframe tbody tr th:only-of-type {\n",
       "        vertical-align: middle;\n",
       "    }\n",
       "\n",
       "    .dataframe tbody tr th {\n",
       "        vertical-align: top;\n",
       "    }\n",
       "\n",
       "    .dataframe thead th {\n",
       "        text-align: right;\n",
       "    }\n",
       "</style>\n",
       "<table border=\"1\" class=\"dataframe\">\n",
       "  <thead>\n",
       "    <tr style=\"text-align: right;\">\n",
       "      <th></th>\n",
       "      <th>id</th>\n",
       "      <th>danceability</th>\n",
       "      <th>energy</th>\n",
       "      <th>key</th>\n",
       "      <th>mode</th>\n",
       "      <th>speechiness</th>\n",
       "      <th>acousticness</th>\n",
       "      <th>instrumentalness</th>\n",
       "      <th>liveness</th>\n",
       "      <th>valence</th>\n",
       "      <th>tempo</th>\n",
       "      <th>time_signature</th>\n",
       "      <th>mood</th>\n",
       "    </tr>\n",
       "  </thead>\n",
       "  <tbody>\n",
       "    <tr>\n",
       "      <th>0</th>\n",
       "      <td>7FyzToHhKG9b9gS19kWg8a</td>\n",
       "      <td>0.453</td>\n",
       "      <td>0.04360</td>\n",
       "      <td>10</td>\n",
       "      <td>0</td>\n",
       "      <td>0.0364</td>\n",
       "      <td>0.990</td>\n",
       "      <td>0.842</td>\n",
       "      <td>0.1110</td>\n",
       "      <td>0.1980</td>\n",
       "      <td>71.987</td>\n",
       "      <td>4</td>\n",
       "      <td>calm</td>\n",
       "    </tr>\n",
       "    <tr>\n",
       "      <th>1</th>\n",
       "      <td>5a8V9tjazhBAIbUiFqpu8N</td>\n",
       "      <td>0.437</td>\n",
       "      <td>0.01840</td>\n",
       "      <td>8</td>\n",
       "      <td>1</td>\n",
       "      <td>0.0413</td>\n",
       "      <td>0.994</td>\n",
       "      <td>0.930</td>\n",
       "      <td>0.1140</td>\n",
       "      <td>0.0478</td>\n",
       "      <td>119.985</td>\n",
       "      <td>4</td>\n",
       "      <td>calm</td>\n",
       "    </tr>\n",
       "    <tr>\n",
       "      <th>2</th>\n",
       "      <td>3WiissyVFRpCVrqbyPKZxZ</td>\n",
       "      <td>0.366</td>\n",
       "      <td>0.01610</td>\n",
       "      <td>5</td>\n",
       "      <td>1</td>\n",
       "      <td>0.0632</td>\n",
       "      <td>0.992</td>\n",
       "      <td>0.951</td>\n",
       "      <td>0.1100</td>\n",
       "      <td>0.1710</td>\n",
       "      <td>49.668</td>\n",
       "      <td>4</td>\n",
       "      <td>calm</td>\n",
       "    </tr>\n",
       "    <tr>\n",
       "      <th>3</th>\n",
       "      <td>3orRX2Ms4jy4dU9KqJ9zT1</td>\n",
       "      <td>0.385</td>\n",
       "      <td>0.00786</td>\n",
       "      <td>0</td>\n",
       "      <td>1</td>\n",
       "      <td>0.0546</td>\n",
       "      <td>0.996</td>\n",
       "      <td>0.843</td>\n",
       "      <td>0.0928</td>\n",
       "      <td>0.1290</td>\n",
       "      <td>74.284</td>\n",
       "      <td>4</td>\n",
       "      <td>calm</td>\n",
       "    </tr>\n",
       "    <tr>\n",
       "      <th>4</th>\n",
       "      <td>536rm114S2ByPbh906pksj</td>\n",
       "      <td>0.381</td>\n",
       "      <td>0.00324</td>\n",
       "      <td>6</td>\n",
       "      <td>0</td>\n",
       "      <td>0.0351</td>\n",
       "      <td>0.994</td>\n",
       "      <td>0.885</td>\n",
       "      <td>0.0746</td>\n",
       "      <td>0.0839</td>\n",
       "      <td>101.624</td>\n",
       "      <td>4</td>\n",
       "      <td>calm</td>\n",
       "    </tr>\n",
       "  </tbody>\n",
       "</table>\n",
       "</div>"
      ],
      "text/plain": [
       "                       id  danceability   energy  key  mode  speechiness  \\\n",
       "0  7FyzToHhKG9b9gS19kWg8a         0.453  0.04360   10     0       0.0364   \n",
       "1  5a8V9tjazhBAIbUiFqpu8N         0.437  0.01840    8     1       0.0413   \n",
       "2  3WiissyVFRpCVrqbyPKZxZ         0.366  0.01610    5     1       0.0632   \n",
       "3  3orRX2Ms4jy4dU9KqJ9zT1         0.385  0.00786    0     1       0.0546   \n",
       "4  536rm114S2ByPbh906pksj         0.381  0.00324    6     0       0.0351   \n",
       "\n",
       "   acousticness  instrumentalness  liveness  valence    tempo  time_signature  \\\n",
       "0         0.990             0.842    0.1110   0.1980   71.987               4   \n",
       "1         0.994             0.930    0.1140   0.0478  119.985               4   \n",
       "2         0.992             0.951    0.1100   0.1710   49.668               4   \n",
       "3         0.996             0.843    0.0928   0.1290   74.284               4   \n",
       "4         0.994             0.885    0.0746   0.0839  101.624               4   \n",
       "\n",
       "   mood  \n",
       "0  calm  \n",
       "1  calm  \n",
       "2  calm  \n",
       "3  calm  \n",
       "4  calm  "
      ]
     },
     "execution_count": 8,
     "metadata": {},
     "output_type": "execute_result"
    }
   ],
   "source": [
    "df_features.head()"
   ]
  },
  {
   "cell_type": "code",
   "execution_count": 9,
   "id": "4392d26e",
   "metadata": {},
   "outputs": [],
   "source": [
    "df = df_features.copy()\n",
    "del df['id']"
   ]
  },
  {
   "cell_type": "code",
   "execution_count": 10,
   "id": "1060c550",
   "metadata": {},
   "outputs": [
    {
     "data": {
      "text/html": [
       "<div>\n",
       "<style scoped>\n",
       "    .dataframe tbody tr th:only-of-type {\n",
       "        vertical-align: middle;\n",
       "    }\n",
       "\n",
       "    .dataframe tbody tr th {\n",
       "        vertical-align: top;\n",
       "    }\n",
       "\n",
       "    .dataframe thead th {\n",
       "        text-align: right;\n",
       "    }\n",
       "</style>\n",
       "<table border=\"1\" class=\"dataframe\">\n",
       "  <thead>\n",
       "    <tr style=\"text-align: right;\">\n",
       "      <th></th>\n",
       "      <th>danceability</th>\n",
       "      <th>energy</th>\n",
       "      <th>key</th>\n",
       "      <th>mode</th>\n",
       "      <th>speechiness</th>\n",
       "      <th>acousticness</th>\n",
       "      <th>instrumentalness</th>\n",
       "      <th>liveness</th>\n",
       "      <th>valence</th>\n",
       "      <th>tempo</th>\n",
       "      <th>time_signature</th>\n",
       "      <th>mood</th>\n",
       "    </tr>\n",
       "  </thead>\n",
       "  <tbody>\n",
       "    <tr>\n",
       "      <th>0</th>\n",
       "      <td>0.453</td>\n",
       "      <td>0.04360</td>\n",
       "      <td>10</td>\n",
       "      <td>0</td>\n",
       "      <td>0.0364</td>\n",
       "      <td>0.990</td>\n",
       "      <td>0.842</td>\n",
       "      <td>0.1110</td>\n",
       "      <td>0.1980</td>\n",
       "      <td>71.987</td>\n",
       "      <td>4</td>\n",
       "      <td>calm</td>\n",
       "    </tr>\n",
       "    <tr>\n",
       "      <th>1</th>\n",
       "      <td>0.437</td>\n",
       "      <td>0.01840</td>\n",
       "      <td>8</td>\n",
       "      <td>1</td>\n",
       "      <td>0.0413</td>\n",
       "      <td>0.994</td>\n",
       "      <td>0.930</td>\n",
       "      <td>0.1140</td>\n",
       "      <td>0.0478</td>\n",
       "      <td>119.985</td>\n",
       "      <td>4</td>\n",
       "      <td>calm</td>\n",
       "    </tr>\n",
       "    <tr>\n",
       "      <th>2</th>\n",
       "      <td>0.366</td>\n",
       "      <td>0.01610</td>\n",
       "      <td>5</td>\n",
       "      <td>1</td>\n",
       "      <td>0.0632</td>\n",
       "      <td>0.992</td>\n",
       "      <td>0.951</td>\n",
       "      <td>0.1100</td>\n",
       "      <td>0.1710</td>\n",
       "      <td>49.668</td>\n",
       "      <td>4</td>\n",
       "      <td>calm</td>\n",
       "    </tr>\n",
       "    <tr>\n",
       "      <th>3</th>\n",
       "      <td>0.385</td>\n",
       "      <td>0.00786</td>\n",
       "      <td>0</td>\n",
       "      <td>1</td>\n",
       "      <td>0.0546</td>\n",
       "      <td>0.996</td>\n",
       "      <td>0.843</td>\n",
       "      <td>0.0928</td>\n",
       "      <td>0.1290</td>\n",
       "      <td>74.284</td>\n",
       "      <td>4</td>\n",
       "      <td>calm</td>\n",
       "    </tr>\n",
       "    <tr>\n",
       "      <th>4</th>\n",
       "      <td>0.381</td>\n",
       "      <td>0.00324</td>\n",
       "      <td>6</td>\n",
       "      <td>0</td>\n",
       "      <td>0.0351</td>\n",
       "      <td>0.994</td>\n",
       "      <td>0.885</td>\n",
       "      <td>0.0746</td>\n",
       "      <td>0.0839</td>\n",
       "      <td>101.624</td>\n",
       "      <td>4</td>\n",
       "      <td>calm</td>\n",
       "    </tr>\n",
       "  </tbody>\n",
       "</table>\n",
       "</div>"
      ],
      "text/plain": [
       "   danceability   energy  key  mode  speechiness  acousticness  \\\n",
       "0         0.453  0.04360   10     0       0.0364         0.990   \n",
       "1         0.437  0.01840    8     1       0.0413         0.994   \n",
       "2         0.366  0.01610    5     1       0.0632         0.992   \n",
       "3         0.385  0.00786    0     1       0.0546         0.996   \n",
       "4         0.381  0.00324    6     0       0.0351         0.994   \n",
       "\n",
       "   instrumentalness  liveness  valence    tempo  time_signature  mood  \n",
       "0             0.842    0.1110   0.1980   71.987               4  calm  \n",
       "1             0.930    0.1140   0.0478  119.985               4  calm  \n",
       "2             0.951    0.1100   0.1710   49.668               4  calm  \n",
       "3             0.843    0.0928   0.1290   74.284               4  calm  \n",
       "4             0.885    0.0746   0.0839  101.624               4  calm  "
      ]
     },
     "execution_count": 10,
     "metadata": {},
     "output_type": "execute_result"
    }
   ],
   "source": [
    "df.head()"
   ]
  },
  {
   "cell_type": "code",
   "execution_count": 11,
   "id": "37ec5d60",
   "metadata": {},
   "outputs": [
    {
     "data": {
      "text/plain": [
       "(1769, 12)"
      ]
     },
     "execution_count": 11,
     "metadata": {},
     "output_type": "execute_result"
    }
   ],
   "source": [
    "df.shape\n"
   ]
  },
  {
   "cell_type": "code",
   "execution_count": 12,
   "id": "d6efcfc9",
   "metadata": {},
   "outputs": [
    {
     "data": {
      "text/plain": [
       "<AxesSubplot:>"
      ]
     },
     "execution_count": 12,
     "metadata": {},
     "output_type": "execute_result"
    },
    {
     "data": {
      "image/png": "[encoded data removed]",
      "text/plain": [
       "<Figure size 432x288 with 1 Axes>"
      ]
     },
     "metadata": {
      "needs_background": "light"
     },
     "output_type": "display_data"
    }
   ],
   "source": [
    "df['mood'].value_counts().plot.bar()"
   ]
  },
  {
   "cell_type": "code",
   "execution_count": 13,
   "id": "5d43fb36",
   "metadata": {},
   "outputs": [
    {
     "data": {
      "text/plain": [
       "<AxesSubplot:ylabel='mood'>"
      ]
     },
     "execution_count": 13,
     "metadata": {},
     "output_type": "execute_result"
    },
    {
     "data": {
      "image/png": "[encoded data removed]",
      "text/plain": [
       "<Figure size 432x288 with 1 Axes>"
      ]
     },
     "metadata": {},
     "output_type": "display_data"
    }
   ],
   "source": [
    "df['mood'].value_counts().plot.pie(autopct='%.2f')"
   ]
  },
  {
   "cell_type": "code",
   "execution_count": 14,
   "id": "2232238e",
   "metadata": {},
   "outputs": [],
   "source": [
    "class2idx = {\n",
    "    'calm':0,\n",
    "    'energetic':1,\n",
    "    'happy':2,\n",
    "    'sad':3\n",
    "}\n",
    "\n",
    "idx2class = {v: k for k, v in class2idx.items()}\n",
    "\n",
    "df['mood'].replace(class2idx, inplace=True)"
   ]
  },
  {
   "cell_type": "code",
   "execution_count": 80,
   "id": "be4df453",
   "metadata": {},
   "outputs": [
    {
     "data": {
      "text/html": [
       "<div>\n",
       "<style scoped>\n",
       "    .dataframe tbody tr th:only-of-type {\n",
       "        vertical-align: middle;\n",
       "    }\n",
       "\n",
       "    .dataframe tbody tr th {\n",
       "        vertical-align: top;\n",
       "    }\n",
       "\n",
       "    .dataframe thead th {\n",
       "        text-align: right;\n",
       "    }\n",
       "</style>\n",
       "<table border=\"1\" class=\"dataframe\">\n",
       "  <thead>\n",
       "    <tr style=\"text-align: right;\">\n",
       "      <th></th>\n",
       "      <th>danceability</th>\n",
       "      <th>energy</th>\n",
       "      <th>key</th>\n",
       "      <th>mode</th>\n",
       "      <th>speechiness</th>\n",
       "      <th>acousticness</th>\n",
       "      <th>instrumentalness</th>\n",
       "      <th>liveness</th>\n",
       "      <th>valence</th>\n",
       "      <th>tempo</th>\n",
       "      <th>time_signature</th>\n",
       "      <th>mood</th>\n",
       "    </tr>\n",
       "  </thead>\n",
       "  <tbody>\n",
       "    <tr>\n",
       "      <th>75</th>\n",
       "      <td>0.579</td>\n",
       "      <td>0.617</td>\n",
       "      <td>9</td>\n",
       "      <td>1</td>\n",
       "      <td>0.0527</td>\n",
       "      <td>0.0770</td>\n",
       "      <td>0.000547</td>\n",
       "      <td>0.1340</td>\n",
       "      <td>0.392</td>\n",
       "      <td>170.145</td>\n",
       "      <td>4</td>\n",
       "      <td>3</td>\n",
       "    </tr>\n",
       "    <tr>\n",
       "      <th>76</th>\n",
       "      <td>0.675</td>\n",
       "      <td>0.413</td>\n",
       "      <td>5</td>\n",
       "      <td>1</td>\n",
       "      <td>0.0351</td>\n",
       "      <td>0.7150</td>\n",
       "      <td>0.000066</td>\n",
       "      <td>0.1040</td>\n",
       "      <td>0.206</td>\n",
       "      <td>139.979</td>\n",
       "      <td>4</td>\n",
       "      <td>3</td>\n",
       "    </tr>\n",
       "    <tr>\n",
       "      <th>77</th>\n",
       "      <td>0.649</td>\n",
       "      <td>0.386</td>\n",
       "      <td>2</td>\n",
       "      <td>0</td>\n",
       "      <td>0.0352</td>\n",
       "      <td>0.8290</td>\n",
       "      <td>0.000000</td>\n",
       "      <td>0.1020</td>\n",
       "      <td>0.284</td>\n",
       "      <td>100.023</td>\n",
       "      <td>4</td>\n",
       "      <td>3</td>\n",
       "    </tr>\n",
       "    <tr>\n",
       "      <th>78</th>\n",
       "      <td>0.700</td>\n",
       "      <td>0.816</td>\n",
       "      <td>7</td>\n",
       "      <td>0</td>\n",
       "      <td>0.0361</td>\n",
       "      <td>0.0910</td>\n",
       "      <td>0.119000</td>\n",
       "      <td>0.0729</td>\n",
       "      <td>0.632</td>\n",
       "      <td>123.986</td>\n",
       "      <td>4</td>\n",
       "      <td>3</td>\n",
       "    </tr>\n",
       "    <tr>\n",
       "      <th>79</th>\n",
       "      <td>0.659</td>\n",
       "      <td>0.717</td>\n",
       "      <td>8</td>\n",
       "      <td>1</td>\n",
       "      <td>0.0581</td>\n",
       "      <td>0.0393</td>\n",
       "      <td>0.000000</td>\n",
       "      <td>0.0769</td>\n",
       "      <td>0.710</td>\n",
       "      <td>103.036</td>\n",
       "      <td>4</td>\n",
       "      <td>3</td>\n",
       "    </tr>\n",
       "  </tbody>\n",
       "</table>\n",
       "</div>"
      ],
      "text/plain": [
       "    danceability  energy  key  mode  speechiness  acousticness  \\\n",
       "75         0.579   0.617    9     1       0.0527        0.0770   \n",
       "76         0.675   0.413    5     1       0.0351        0.7150   \n",
       "77         0.649   0.386    2     0       0.0352        0.8290   \n",
       "78         0.700   0.816    7     0       0.0361        0.0910   \n",
       "79         0.659   0.717    8     1       0.0581        0.0393   \n",
       "\n",
       "    instrumentalness  liveness  valence    tempo  time_signature  mood  \n",
       "75          0.000547    0.1340    0.392  170.145               4     3  \n",
       "76          0.000066    0.1040    0.206  139.979               4     3  \n",
       "77          0.000000    0.1020    0.284  100.023               4     3  \n",
       "78          0.119000    0.0729    0.632  123.986               4     3  \n",
       "79          0.000000    0.0769    0.710  103.036               4     3  "
      ]
     },
     "execution_count": 80,
     "metadata": {},
     "output_type": "execute_result"
    }
   ],
   "source": [
    "df.tail()"
   ]
  },
  {
   "cell_type": "code",
   "execution_count": 16,
   "id": "8ef03a2a",
   "metadata": {},
   "outputs": [],
   "source": [
    "X = df.iloc[:, 0:-1]\n",
    "y = df.iloc[:, -1]"
   ]
  },
  {
   "cell_type": "code",
   "execution_count": 17,
   "id": "3d502642",
   "metadata": {},
   "outputs": [],
   "source": [
    "# Split into train+val and test\n",
    "X_trainval, X_test, y_trainval, y_test = train_test_split(X, y, test_size=0.2, stratify=y, random_state=69)\n",
    "\n",
    "# Split train into train-val\n",
    "X_train, X_val, y_train, y_val = train_test_split(X_trainval, y_trainval, test_size=0.1, stratify=y_trainval, random_state=21)"
   ]
  },
  {
   "cell_type": "code",
   "execution_count": 18,
   "id": "a9df6628",
   "metadata": {},
   "outputs": [],
   "source": [
    "# Normalize Input\n",
    "scaler = MinMaxScaler()\n",
    "X_train = scaler.fit_transform(X_train)\n",
    "X_val = scaler.transform(X_val)\n",
    "X_test = scaler.transform(X_test)\n",
    "X_train, y_train = np.array(X_train), np.array(y_train)\n",
    "X_val, y_val = np.array(X_val), np.array(y_val)\n",
    "X_test, y_test = np.array(X_test), np.array(y_test)"
   ]
  },
  {
   "cell_type": "code",
   "execution_count": 19,
   "id": "f025d4f5",
   "metadata": {},
   "outputs": [],
   "source": [
    "# Visualize Class Distribution in Train, Val, and Test\n",
    "def get_class_distribution(obj):\n",
    "    count_dict = {\n",
    "        \"calm\": 0,\n",
    "        \"energetic\": 0,\n",
    "        \"happy\": 0,\n",
    "        \"sad\": 0\n",
    "    }\n",
    "    \n",
    "    for i in obj:\n",
    "        if i == 0: \n",
    "            count_dict['calm'] += 1\n",
    "        elif i == 1: \n",
    "            count_dict['energetic'] += 1\n",
    "        elif i == 2: \n",
    "            count_dict['happy'] += 1\n",
    "        elif i == 3: \n",
    "            count_dict['sad'] += 1            \n",
    "        else:\n",
    "            print(\"Check classes.\")\n",
    "            \n",
    "    return count_dict"
   ]
  },
  {
   "cell_type": "code",
   "execution_count": 20,
   "id": "81eafc72",
   "metadata": {},
   "outputs": [
    {
     "data": {
      "text/plain": [
       "Text(0.5, 1.0, 'Class Distribution in Test Set')"
      ]
     },
     "execution_count": 20,
     "metadata": {},
     "output_type": "execute_result"
    },
    {
     "data": {
      "image/png": "[encoded data removed]",
      "text/plain": [
       "<Figure size 1800x504 with 3 Axes>"
      ]
     },
     "metadata": {
      "needs_background": "light"
     },
     "output_type": "display_data"
    }
   ],
   "source": [
    "train_count_df =  pd.DataFrame.from_dict([get_class_distribution(y_train)]).melt()\n",
    "validation_count_df =  pd.DataFrame.from_dict([get_class_distribution(y_val)]).melt()\n",
    "test_count_df =  pd.DataFrame.from_dict([get_class_distribution(y_test)]).melt()\n",
    "fig, axes = plt.subplots(nrows=1, ncols=3, figsize=(25,7))\n",
    "# Train\n",
    "axes[0].bar(train_count_df[\"variable\"], train_count_df[\"value\"])\n",
    "axes[0].set_title('Class Distribution in Train Set')\n",
    "\n",
    "# Validation\n",
    "axes[1].bar(validation_count_df[\"variable\"], validation_count_df[\"value\"])\n",
    "axes[1].set_title('Class Distribution in Validation Set')\n",
    "\n",
    "# Test\n",
    "axes[2].bar(test_count_df[\"variable\"], test_count_df[\"value\"])\n",
    "axes[2].set_title('Class Distribution in Test Set')\n"
   ]
  },
  {
   "cell_type": "code",
   "execution_count": 21,
   "id": "65b97cac",
   "metadata": {},
   "outputs": [],
   "source": [
    "# Custom Dataset\n",
    "class ClassifierDataset(Dataset):\n",
    "    \n",
    "    def __init__(self, X_data, y_data):\n",
    "        self.X_data = X_data\n",
    "        self.y_data = y_data\n",
    "        \n",
    "    def __getitem__(self, index):\n",
    "        return self.X_data[index], self.y_data[index]\n",
    "        \n",
    "    def __len__ (self):\n",
    "        return len(self.X_data)\n",
    "\n",
    "\n",
    "train_dataset = ClassifierDataset(torch.from_numpy(X_train).float(), torch.from_numpy(y_train).long())\n",
    "val_dataset = ClassifierDataset(torch.from_numpy(X_val).float(), torch.from_numpy(y_val).long())\n",
    "test_dataset = ClassifierDataset(torch.from_numpy(X_test).float(), torch.from_numpy(y_test).long())"
   ]
  },
  {
   "cell_type": "code",
   "execution_count": 22,
   "id": "c3665613",
   "metadata": {},
   "outputs": [
    {
     "data": {
      "text/plain": [
       "<__main__.ClassifierDataset at 0x7fd3ecdb3190>"
      ]
     },
     "execution_count": 22,
     "metadata": {},
     "output_type": "execute_result"
    }
   ],
   "source": [
    "train_dataset"
   ]
  },
  {
   "cell_type": "markdown",
   "id": "654a7c93",
   "metadata": {},
   "source": [
    "# for imbalanced data"
   ]
  },
  {
   "cell_type": "code",
   "execution_count": 23,
   "id": "8afa995a",
   "metadata": {},
   "outputs": [],
   "source": [
    "# Weighted Sampling\n",
    "# First, we obtain a list called target_list which contains all our outputs. \n",
    "# This list is then converted to a tensor and shuffled.\n",
    "target_list = []\n",
    "for _, t in train_dataset:\n",
    "    target_list.append(t)\n",
    "    \n",
    "target_list = torch.tensor(target_list)\n",
    "target_list = target_list[torch.randperm(len(target_list))]"
   ]
  },
  {
   "cell_type": "code",
   "execution_count": 24,
   "id": "6125a155",
   "metadata": {},
   "outputs": [
    {
     "name": "stdout",
     "output_type": "stream",
     "text": [
      "tensor([0.0032, 0.0031, 0.0029, 0.0034])\n"
     ]
    }
   ],
   "source": [
    "# Then, we obtain the count of all classes in our training set. \n",
    "# We use the reciprocal of each count to obtain it’s weight.\n",
    "class_count = [i for i in get_class_distribution(y_train).values()]\n",
    "class_weights = 1./torch.tensor(class_count, dtype=torch.float) \n",
    "print(class_weights)\n"
   ]
  },
  {
   "cell_type": "code",
   "execution_count": 25,
   "id": "98a7ead0",
   "metadata": {},
   "outputs": [],
   "source": [
    "# WeightedRandomSampler expects a weight for each sample. \n",
    "class_weights_all = class_weights[target_list]"
   ]
  },
  {
   "cell_type": "code",
   "execution_count": 26,
   "id": "6d072b53",
   "metadata": {},
   "outputs": [],
   "source": [
    "# initialize our WeightedRandomSampler\n",
    "weighted_sampler = WeightedRandomSampler(\n",
    "    weights=class_weights_all,\n",
    "    num_samples=len(class_weights_all),\n",
    "    replacement=True\n",
    ")"
   ]
  },
  {
   "cell_type": "markdown",
   "id": "8baad73d",
   "metadata": {},
   "source": [
    "# Model Parameters"
   ]
  },
  {
   "cell_type": "code",
   "execution_count": 27,
   "id": "77294ea8",
   "metadata": {},
   "outputs": [],
   "source": [
    "EPOCHS = 10\n",
    "BATCH_SIZE = 128\n",
    "LEARNING_RATE = 0.1\n",
    "NUM_FEATURES = len(X.columns)\n",
    "NUM_CLASSES = 4"
   ]
  },
  {
   "cell_type": "markdown",
   "id": "dd1f0f8a",
   "metadata": {},
   "source": [
    "# Dataloader"
   ]
  },
  {
   "cell_type": "code",
   "execution_count": 28,
   "id": "18214e35",
   "metadata": {},
   "outputs": [],
   "source": [
    "train_loader = DataLoader(dataset=train_dataset,\n",
    "                          batch_size=BATCH_SIZE,\n",
    "                          sampler=weighted_sampler\n",
    ")\n",
    "val_loader = DataLoader(dataset=val_dataset, batch_size=1)\n",
    "test_loader = DataLoader(dataset=test_dataset, batch_size=1)"
   ]
  },
  {
   "cell_type": "markdown",
   "id": "113f57b2",
   "metadata": {},
   "source": [
    "# Define Neural Net Architecture\n"
   ]
  },
  {
   "cell_type": "code",
   "execution_count": 29,
   "id": "82cc3439",
   "metadata": {},
   "outputs": [],
   "source": [
    "class MulticlassClassification(nn.Module):\n",
    "    def __init__(self, num_feature, num_class):\n",
    "        super(MulticlassClassification, self).__init__()\n",
    "        \n",
    "        self.layer_1 = nn.Linear(num_feature, 512)\n",
    "        self.layer_2 = nn.Linear(512, 128)\n",
    "        self.layer_3 = nn.Linear(128, 64)\n",
    "        self.layer_out = nn.Linear(64, num_class) \n",
    "        \n",
    "        self.relu = nn.ReLU()\n",
    "        self.dropout = nn.Dropout(p=0.2)\n",
    "        self.batchnorm1 = nn.BatchNorm1d(512)\n",
    "        self.batchnorm2 = nn.BatchNorm1d(128)\n",
    "        self.batchnorm3 = nn.BatchNorm1d(64)\n",
    "        \n",
    "    def forward(self, x):\n",
    "        x = self.layer_1(x)\n",
    "        x = self.batchnorm1(x)\n",
    "        x = self.relu(x)\n",
    "        \n",
    "        x = self.layer_2(x)\n",
    "        x = self.batchnorm2(x)\n",
    "        x = self.relu(x)\n",
    "        x = self.dropout(x)\n",
    "        \n",
    "        x = self.layer_3(x)\n",
    "        x = self.batchnorm3(x)\n",
    "        x = self.relu(x)\n",
    "        x = self.dropout(x)\n",
    "        \n",
    "        x = self.layer_out(x)\n",
    "        \n",
    "        return x"
   ]
  },
  {
   "cell_type": "code",
   "execution_count": 30,
   "id": "81b68508",
   "metadata": {},
   "outputs": [
    {
     "name": "stdout",
     "output_type": "stream",
     "text": [
      "cpu\n"
     ]
    }
   ],
   "source": [
    "device = torch.device(\"cuda:0\" if torch.cuda.is_available() else \"cpu\")\n",
    "print(device)\n"
   ]
  },
  {
   "cell_type": "code",
   "execution_count": 31,
   "id": "84a92478",
   "metadata": {},
   "outputs": [
    {
     "name": "stdout",
     "output_type": "stream",
     "text": [
      "MulticlassClassification(\n",
      "  (layer_1): Linear(in_features=11, out_features=512, bias=True)\n",
      "  (layer_2): Linear(in_features=512, out_features=128, bias=True)\n",
      "  (layer_3): Linear(in_features=128, out_features=64, bias=True)\n",
      "  (layer_out): Linear(in_features=64, out_features=4, bias=True)\n",
      "  (relu): ReLU()\n",
      "  (dropout): Dropout(p=0.2, inplace=False)\n",
      "  (batchnorm1): BatchNorm1d(512, eps=1e-05, momentum=0.1, affine=True, track_running_stats=True)\n",
      "  (batchnorm2): BatchNorm1d(128, eps=1e-05, momentum=0.1, affine=True, track_running_stats=True)\n",
      "  (batchnorm3): BatchNorm1d(64, eps=1e-05, momentum=0.1, affine=True, track_running_stats=True)\n",
      ")\n"
     ]
    }
   ],
   "source": [
    "# Initialize the model, optimizer, and loss function. \n",
    "# Transfer the model to GPU. \n",
    "# We’re using the nn.CrossEntropyLoss because this is a multiclass classification problem. \n",
    "# We don’t have to manually apply a log_softmax layer after our final layer because nn.CrossEntropyLoss does that for us. \n",
    "# However, we need to apply log_softmax for our validation and testing.\n",
    "model = MulticlassClassification(num_feature = NUM_FEATURES, num_class=NUM_CLASSES)\n",
    "model.to(device)\n",
    "\n",
    "criterion = nn.CrossEntropyLoss(weight=class_weights.to(device))\n",
    "optimizer = optim.Adam(model.parameters(), lr=LEARNING_RATE)\n",
    "print(model)\n"
   ]
  },
  {
   "cell_type": "code",
   "execution_count": 32,
   "id": "2ebfbd12",
   "metadata": {},
   "outputs": [],
   "source": [
    "# function to calculate accuracy per epoch\n",
    "def multi_acc(y_pred, y_test):\n",
    "    y_pred_softmax = torch.log_softmax(y_pred, dim = 1)\n",
    "    _, y_pred_tags = torch.max(y_pred_softmax, dim = 1)    \n",
    "    \n",
    "    correct_pred = (y_pred_tags == y_test).float()\n",
    "    acc = correct_pred.sum() / len(correct_pred)\n",
    "    \n",
    "    acc = torch.round(acc * 100)\n",
    "    \n",
    "    return acc"
   ]
  },
  {
   "cell_type": "code",
   "execution_count": 33,
   "id": "5e328faf",
   "metadata": {},
   "outputs": [],
   "source": [
    "accuracy_stats = {\n",
    "    'train': [],\n",
    "    \"val\": []\n",
    "}\n",
    "loss_stats = {\n",
    "    'train': [],\n",
    "    \"val\": []\n",
    "}"
   ]
  },
  {
   "cell_type": "code",
   "execution_count": 34,
   "id": "762aa364",
   "metadata": {},
   "outputs": [
    {
     "name": "stdout",
     "output_type": "stream",
     "text": [
      "Begin training.\n"
     ]
    },
    {
     "data": {
      "application/vnd.jupyter.widget-view+json": {
       "model_id": "cd7ae6582f284c1d89f264ad9999d4e2",
       "version_major": 2,
       "version_minor": 0
      },
      "text/plain": [
       "  0%|          | 0/10 [00:00<?, ?it/s]"
      ]
     },
     "metadata": {},
     "output_type": "display_data"
    },
    {
     "name": "stdout",
     "output_type": "stream",
     "text": [
      "Epoch 001: | Train Loss: 0.72938 | Val Loss: 3.37975 | Train Acc: 67.900| Val Acc: 52.113\n",
      "Epoch 002: | Train Loss: 0.53290 | Val Loss: 1.83400 | Train Acc: 76.500| Val Acc: 59.155\n",
      "Epoch 003: | Train Loss: 0.52869 | Val Loss: 0.39640 | Train Acc: 77.700| Val Acc: 85.211\n",
      "Epoch 004: | Train Loss: 0.50375 | Val Loss: 0.48868 | Train Acc: 76.900| Val Acc: 80.986\n",
      "Epoch 005: | Train Loss: 0.50681 | Val Loss: 0.42357 | Train Acc: 77.900| Val Acc: 85.915\n",
      "Epoch 006: | Train Loss: 0.46192 | Val Loss: 0.34556 | Train Acc: 80.300| Val Acc: 84.507\n",
      "Epoch 007: | Train Loss: 0.45345 | Val Loss: 0.38133 | Train Acc: 78.500| Val Acc: 86.620\n",
      "Epoch 008: | Train Loss: 0.46689 | Val Loss: 0.56235 | Train Acc: 80.200| Val Acc: 71.127\n",
      "Epoch 009: | Train Loss: 0.49081 | Val Loss: 0.63887 | Train Acc: 76.700| Val Acc: 77.465\n",
      "Epoch 010: | Train Loss: 0.50891 | Val Loss: 0.58427 | Train Acc: 77.100| Val Acc: 73.239\n"
     ]
    }
   ],
   "source": [
    "print(\"Begin training.\")\n",
    "for e in tqdm(range(1, EPOCHS+1)):\n",
    "    \n",
    "    # TRAINING\n",
    "    train_epoch_loss = 0\n",
    "    train_epoch_acc = 0\n",
    "    model.train()\n",
    "    for X_train_batch, y_train_batch in train_loader:\n",
    "        X_train_batch, y_train_batch = X_train_batch.to(device), y_train_batch.to(device)\n",
    "        optimizer.zero_grad()\n",
    "        \n",
    "        y_train_pred = model(X_train_batch)\n",
    "        \n",
    "        train_loss = criterion(y_train_pred, y_train_batch)\n",
    "        train_acc = multi_acc(y_train_pred, y_train_batch)\n",
    "        \n",
    "        train_loss.backward()\n",
    "        optimizer.step()\n",
    "        \n",
    "        train_epoch_loss += train_loss.item()\n",
    "        train_epoch_acc += train_acc.item()\n",
    "        \n",
    "        \n",
    "    # VALIDATION    \n",
    "    with torch.no_grad():\n",
    "        \n",
    "        val_epoch_loss = 0\n",
    "        val_epoch_acc = 0\n",
    "        \n",
    "        model.eval()\n",
    "        for X_val_batch, y_val_batch in val_loader:\n",
    "            X_val_batch, y_val_batch = X_val_batch.to(device), y_val_batch.to(device)\n",
    "            \n",
    "            y_val_pred = model(X_val_batch)\n",
    "                        \n",
    "            val_loss = criterion(y_val_pred, y_val_batch)\n",
    "            val_acc = multi_acc(y_val_pred, y_val_batch)\n",
    "            \n",
    "            val_epoch_loss += val_loss.item()\n",
    "            val_epoch_acc += val_acc.item()\n",
    "    loss_stats['train'].append(train_epoch_loss/len(train_loader))\n",
    "    loss_stats['val'].append(val_epoch_loss/len(val_loader))\n",
    "    accuracy_stats['train'].append(train_epoch_acc/len(train_loader))\n",
    "    accuracy_stats['val'].append(val_epoch_acc/len(val_loader))\n",
    "                              \n",
    "    \n",
    "    print(f'Epoch {e+0:03}: | Train Loss: {train_epoch_loss/len(train_loader):.5f} | Val Loss: {val_epoch_loss/len(val_loader):.5f} | Train Acc: {train_epoch_acc/len(train_loader):.3f}| Val Acc: {val_epoch_acc/len(val_loader):.3f}')"
   ]
  },
  {
   "cell_type": "code",
   "execution_count": 54,
   "id": "93287f78",
   "metadata": {},
   "outputs": [
    {
     "data": {
      "text/plain": [
       "Text(0.5, 1.0, 'Train-Val Loss/Epoch')"
      ]
     },
     "execution_count": 54,
     "metadata": {},
     "output_type": "execute_result"
    },
    {
     "data": {
      "image/png": "[encoded data removed]",
      "text/plain": [
       "<Figure size 1440x504 with 2 Axes>"
      ]
     },
     "metadata": {
      "needs_background": "light"
     },
     "output_type": "display_data"
    }
   ],
   "source": [
    "# Create dataframes\n",
    "train_val_acc_df = pd.DataFrame.from_dict(accuracy_stats).reset_index().melt(id_vars=['index']).rename(columns={\"index\":\"epochs\"})\n",
    "train_val_loss_df = pd.DataFrame.from_dict(loss_stats).reset_index().melt(id_vars=['index']).rename(columns={\"index\":\"epochs\"})\n",
    "# Plot the dataframes\n",
    "fig, axes = plt.subplots(nrows=1, ncols=2, figsize=(20,7))\n",
    "axes[0].plot(train_val_acc_df[train_val_acc_df[\"variable\"]=='train'][\"epochs\"], train_val_acc_df[train_val_acc_df[\"variable\"]=='train'][\"value\"],label = \"train\")\n",
    "axes[0].plot(train_val_acc_df[train_val_acc_df[\"variable\"]=='val'][\"epochs\"], train_val_acc_df[train_val_acc_df[\"variable\"]=='val'][\"value\"],label = \"val\")\n",
    "axes[0].set_title('Train-Val Accuracy/Epoch')\n",
    "axes[0].legend()\n",
    "\n",
    "axes[1].plot(train_val_loss_df[train_val_loss_df[\"variable\"]=='train'][\"epochs\"], train_val_loss_df[train_val_loss_df[\"variable\"]=='train'][\"value\"],label = \"train\")\n",
    "axes[1].plot(train_val_loss_df[train_val_loss_df[\"variable\"]=='val'][\"epochs\"], train_val_loss_df[train_val_loss_df[\"variable\"]=='val'][\"value\"],label = \"val\")\n",
    "axes[1].legend()\n",
    "axes[1].set_title('Train-Val Loss/Epoch')"
   ]
  },
  {
   "cell_type": "markdown",
   "id": "5be5e1ad",
   "metadata": {},
   "source": [
    "# Test the model"
   ]
  },
  {
   "cell_type": "code",
   "execution_count": 68,
   "id": "f73db008",
   "metadata": {},
   "outputs": [],
   "source": [
    "y_pred_list = []\n",
    "with torch.no_grad():\n",
    "    model.eval()\n",
    "    for X_batch, _ in test_loader:\n",
    "        X_batch = X_batch.to(device)\n",
    "        y_test_pred = model(X_batch)\n",
    "        _, y_pred_tags = torch.max(y_test_pred, dim = 1)\n",
    "        y_pred_list.append(y_pred_tags.cpu().numpy())\n",
    "y_pred_list = [a.squeeze().tolist() for a in y_pred_list]"
   ]
  },
  {
   "cell_type": "code",
   "execution_count": 78,
   "id": "ec2d3ac9",
   "metadata": {},
   "outputs": [
    {
     "data": {
      "image/png": "[encoded data removed]",
      "text/plain": [
       "<Figure size 432x288 with 2 Axes>"
      ]
     },
     "metadata": {
      "needs_background": "light"
     },
     "output_type": "display_data"
    }
   ],
   "source": [
    "cm = confusion_matrix(y_test, y_pred_list)\n",
    "confusion_matrix_df = pd.DataFrame(cm).rename(columns=idx2class, index=idx2class)\n",
    "labels = confusion_matrix_df.columns.tolist()\n",
    "# plt.imshow(confusion_matrix_df)\n",
    "fig = plt.figure()\n",
    "ax = fig.add_subplot(111)\n",
    "cax = ax.matshow(cm)\n",
    "plt.title('Confusion matrix of the classifier')\n",
    "fig.colorbar(cax)\n",
    "# We want to show all ticks...\n",
    "ax.set_xticks(np.arange(len(labels)))\n",
    "ax.set_yticks(np.arange(len(labels)))\n",
    "ax.set_xticklabels(labels)\n",
    "ax.set_yticklabels(labels)\n",
    "plt.xlabel('Predicted')\n",
    "plt.ylabel('True')\n",
    "\n",
    "# Loop over data dimensions and create text annotations.\n",
    "for i in range(len(labels)):\n",
    "    for j in range(len(labels)):\n",
    "        text = ax.text(j, i, cm[i, j],\n",
    "                       ha=\"center\", va=\"center\", color=\"w\")\n",
    "\n",
    "plt.show()"
   ]
  },
  {
   "cell_type": "code",
   "execution_count": 70,
   "id": "1796f13e",
   "metadata": {},
   "outputs": [
    {
     "data": {
      "text/html": [
       "<div>\n",
       "<style scoped>\n",
       "    .dataframe tbody tr th:only-of-type {\n",
       "        vertical-align: middle;\n",
       "    }\n",
       "\n",
       "    .dataframe tbody tr th {\n",
       "        vertical-align: top;\n",
       "    }\n",
       "\n",
       "    .dataframe thead th {\n",
       "        text-align: right;\n",
       "    }\n",
       "</style>\n",
       "<table border=\"1\" class=\"dataframe\">\n",
       "  <thead>\n",
       "    <tr style=\"text-align: right;\">\n",
       "      <th></th>\n",
       "      <th>calm</th>\n",
       "      <th>energetic</th>\n",
       "      <th>happy</th>\n",
       "      <th>sad</th>\n",
       "    </tr>\n",
       "  </thead>\n",
       "  <tbody>\n",
       "    <tr>\n",
       "      <th>calm</th>\n",
       "      <td>83</td>\n",
       "      <td>1</td>\n",
       "      <td>0</td>\n",
       "      <td>3</td>\n",
       "    </tr>\n",
       "    <tr>\n",
       "      <th>energetic</th>\n",
       "      <td>0</td>\n",
       "      <td>88</td>\n",
       "      <td>2</td>\n",
       "      <td>0</td>\n",
       "    </tr>\n",
       "    <tr>\n",
       "      <th>happy</th>\n",
       "      <td>0</td>\n",
       "      <td>66</td>\n",
       "      <td>19</td>\n",
       "      <td>10</td>\n",
       "    </tr>\n",
       "    <tr>\n",
       "      <th>sad</th>\n",
       "      <td>0</td>\n",
       "      <td>12</td>\n",
       "      <td>11</td>\n",
       "      <td>59</td>\n",
       "    </tr>\n",
       "  </tbody>\n",
       "</table>\n",
       "</div>"
      ],
      "text/plain": [
       "           calm  energetic  happy  sad\n",
       "calm         83          1      0    3\n",
       "energetic     0         88      2    0\n",
       "happy         0         66     19   10\n",
       "sad           0         12     11   59"
      ]
     },
     "execution_count": 70,
     "metadata": {},
     "output_type": "execute_result"
    }
   ],
   "source": [
    "confusion_matrix_df"
   ]
  },
  {
   "cell_type": "code",
   "execution_count": 79,
   "id": "50274105",
   "metadata": {},
   "outputs": [
    {
     "name": "stdout",
     "output_type": "stream",
     "text": [
      "              precision    recall  f1-score   support\n",
      "\n",
      "           0       1.00      0.95      0.98        87\n",
      "           1       0.53      0.98      0.68        90\n",
      "           2       0.59      0.20      0.30        95\n",
      "           3       0.82      0.72      0.77        82\n",
      "\n",
      "    accuracy                           0.70       354\n",
      "   macro avg       0.74      0.71      0.68       354\n",
      "weighted avg       0.73      0.70      0.67       354\n",
      "\n"
     ]
    }
   ],
   "source": [
    "print(classification_report(y_test, y_pred_list))\n"
   ]
  },
  {
   "cell_type": "code",
   "execution_count": null,
   "id": "542ef07f",
   "metadata": {},
   "outputs": [],
   "source": []
  }
 ],
 "metadata": {
  "kernelspec": {
   "display_name": "Python 3",
   "language": "python",
   "name": "python3"
  },
  "language_info": {
   "codemirror_mode": {
    "name": "ipython",
    "version": 3
   },
   "file_extension": ".py",
   "mimetype": "text/x-python",
   "name": "python",
   "nbconvert_exporter": "python",
   "pygments_lexer": "ipython3",
   "version": "3.7.10"
  }
 },
 "nbformat": 4,
 "nbformat_minor": 5
}
